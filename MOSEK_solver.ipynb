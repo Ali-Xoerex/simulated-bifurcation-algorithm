{
 "cells": [
  {
   "cell_type": "code",
   "execution_count": 2,
   "metadata": {},
   "outputs": [],
   "source": [
    "from simulated_bifurcation import Ising\n",
    "from tqdm import tqdm\n",
    "import matplotlib.pyplot as plt\n",
    "import pulp as pl\n",
    "import mosek\n",
    "import numpy as np\n",
    "import time\n",
    "import os\n",
    "\n",
    "N_range = [10,30,40,50,100,200,300,500,700,1000]\n",
    "scale_range = [4]\n",
    "N_samples = 1\n",
    "\n",
    "def generate_J_h(N_range,scale_range,N_samples):\n",
    "    for N in N_range:\n",
    "        for scale in scale_range:\n",
    "            for i in range(N_samples):\n",
    "                J = np.random.uniform(-10,10,size=(N, N))/(10**scale)\n",
    "                J = (J + J.T)/2\n",
    "                J = J - np.diag(np.diag(J))\n",
    "                h = np.random.uniform(-10,10,size=N)/(10**(scale-int(i%5)+2))\n",
    "\n",
    "                with open('test_MOSEK.nosync/test_MOSEK_J_' + str(N) + '_' + str(scale) + \"_\" + str(i) + '.npy', 'wb') as f:\n",
    "                    np.save(f, J)\n",
    "\n",
    "                with open('test_MOSEK.nosync/test_MOSEK_h_' + str(N) + '_' + str(scale) + \"_\" + str(i) + '.npy', 'wb') as f:\n",
    "                    np.save(f, h)\n",
    "\n",
    "                with open('test_MOSEK.nosync/test_SB_J_' + str(N) + '_' + str(scale) + \"_\" + str(i) + '.npy', 'wb') as f:\n",
    "                    np.save(f, J/4)\n",
    "\n",
    "                with open('test_MOSEK.nosync/test_SB_h_' + str(N) + '_' + str(scale) + \"_\" + str(i) + '.npy', 'wb') as f:\n",
    "                    np.save(f, h/2 - sum([J[:,i]/8 for i in range(N)]) - sum([J[i,:]/8 for i in range(N)]))\n",
    "\n",
    "generate_J_h(N_range,scale_range,N_samples)"
   ]
  },
  {
   "cell_type": "code",
   "execution_count": 3,
   "metadata": {},
   "outputs": [],
   "source": [
    "def create_optimize_MOSEK(J,h,J_SB,h_SB,max_seconds=-1):\n",
    "    time_1 = time.time()\n",
    "    size = J.shape[0]\n",
    "\n",
    "    model = pl.LpProblem(\"Linear Optimization\", pl.LpMinimize)\n",
    "    x = pl.LpVariable.dicts('x', list(range(size)), lowBound=0, upBound=1, cat='Integer')\n",
    "    z = pl.LpVariable.dicts('z', [(i,j) for i in range(size) for j in range(size)], lowBound=0, upBound=1, cat='Integer')\n",
    "\n",
    "    for i in range(size):\n",
    "        for j in range(size):\n",
    "            model += z[i,j] <= x[i]\n",
    "            model += z[i,j] <= x[j]\n",
    "            model += z[i,j] >= x[i] + x[j] -1\n",
    "\n",
    "    model += pl.lpSum([(-1/2)*J[i][j]*z[i,j] for i in range(size) for j in range(size)]) + pl.lpSum([x[i]*h[i] for i in range(size)])\n",
    "\n",
    "    if max_seconds == -1:\n",
    "        model.solve(pl.MOSEK(msg=0, options={mosek.dparam.optimizer_max_time:60*5}))\n",
    "        #model.solve(pl.PULP_MOSEK_CMD(msg=0, timeLimit=60*5))\n",
    "    else:\n",
    "        model.solve(pl.MOSEK(msg=0, options={mosek.dparam.optimizer_max_time:max_seconds}))\n",
    "\n",
    "    spins = [1 if x[i].varValue >= 0.99 else -1 for i in range(size)]\n",
    "    energy = (-1/2)*sum([sum([J_SB[i,j]*spins[j] for j in range(size)])*spins[i] for i in range(size)]) + sum([h_SB[i]*spins[i] for i in range(size)])[0]\n",
    "\n",
    "    processing_time = time.time() - time_1\n",
    "    return (processing_time,np.array(spins),energy)"
   ]
  },
  {
   "cell_type": "code",
   "execution_count": 4,
   "metadata": {},
   "outputs": [],
   "source": [
    "def create_optimize_SB(J,h):\n",
    "    time_1 = time.time()\n",
    "\n",
    "    model = Ising(J,h)\n",
    "    model.optimize(convergence_threshold = 50,\n",
    "        sampling_period = 50,\n",
    "        time_step = 0.01, \n",
    "        symplectic_parameter = 2,\n",
    "        agents = 20,\n",
    "        ballistic=True,\n",
    "        heated=True,\n",
    "        final_pressure=1.,\n",
    "        pressure_slope=0.01,\n",
    "        verbose=False)\n",
    "\n",
    "    processing_time = time.time() - time_1\n",
    "    return(processing_time, model.ground_state, model.energy)"
   ]
  },
  {
   "cell_type": "code",
   "execution_count": 6,
   "metadata": {},
   "outputs": [
    {
     "name": "stdout",
     "output_type": "stream",
     "text": [
      "4.100961685180664\n"
     ]
    }
   ],
   "source": [
    "import numpy as np\n",
    "from simulated_bifurcation import Ising\n",
    "import time\n",
    "\n",
    "scale = 4\n",
    "N = 1000\n",
    "\n",
    "J = np.random.uniform(-10,10,size=(N, N))/(10**scale)\n",
    "J = (J + J.T)/2\n",
    "J = (J - np.diag(np.diag(J)))/4\n",
    "h = np.random.uniform(-10,10,size=N)/(10**(scale-int(0%5)+2))\n",
    "h = h/2 - sum([J[:,i]/8 for i in range(N)]) - sum([J[i,:]/8 for i in range(N)])\n",
    "\n",
    "time_1 = time.time()\n",
    "\n",
    "model = Ising(J,np.expand_dims(h,axis=1))\n",
    "model.optimize(convergence_threshold = 50,\n",
    "    sampling_period = 50,\n",
    "    time_step = 0.01, \n",
    "    symplectic_parameter = 2,\n",
    "    agents = 1,\n",
    "    ballistic=True,\n",
    "    heated=True,\n",
    "    final_pressure=1.,\n",
    "    pressure_slope=0.01,\n",
    "    verbose=False)\n",
    "\n",
    "processing_time = time.time() - time_1\n",
    "print(processing_time)"
   ]
  },
  {
   "cell_type": "code",
   "execution_count": 5,
   "metadata": {},
   "outputs": [],
   "source": [
    "def test_protocol(N_range,scale_range,N_samples,compute_SB=True):\n",
    "    for N in tqdm(N_range):\n",
    "        for scale in scale_range:\n",
    "            for i in range(N_samples):\n",
    "                with open('test_MOSEK.nosync/test_SB_J_' + str(N) + '_' + str(scale) + \"_\" + str(i) + '.npy', 'rb') as f:\n",
    "                    test_SB_J = np.load(f)\n",
    "\n",
    "                with open('test_MOSEK.nosync/test_SB_h_' + str(N) + '_' + str(scale) + \"_\" + str(i) + '.npy', 'rb') as f:\n",
    "                    test_SB_h = np.expand_dims(np.load(f),axis=1)\n",
    "\n",
    "                with open('test_MOSEK.nosync/test_MOSEK_J_' + str(N) + '_' + str(scale) + \"_\" + str(i) + '.npy', 'rb') as f:\n",
    "                    test_MOSEK_J = np.load(f)\n",
    "\n",
    "                with open('test_MOSEK.nosync/test_MOSEK_h_' + str(N) + '_' + str(scale) + \"_\" + str(i) + '.npy', 'rb') as f:\n",
    "                    test_MOSEK_h = np.load(f)\n",
    "\n",
    "                processing_time_MOSEK, spins_MOSEK, energy_MOSEK = create_optimize_MOSEK(test_MOSEK_J,test_MOSEK_h,test_SB_J,test_SB_h)\n",
    "                with open('test_MOSEK.nosync/results_MOSEK_' + str(N) + '_' + str(scale) + \"_\" + str(i) + '.npz', 'wb') as f:\n",
    "                    np.savez(f, processing_time=processing_time_MOSEK, spins=spins_MOSEK, energy=energy_MOSEK, J=test_SB_J, h=test_SB_h)\n",
    "\n",
    "                if compute_SB:\n",
    "                    processing_time_sb, spins_sb, energy_sb = create_optimize_SB(test_SB_J,test_SB_h)\n",
    "                    processing_time_MOSEK_stopped, spins_MOSEK_stopped, energy_MOSEK_stopped = create_optimize_MOSEK(test_MOSEK_J,test_MOSEK_h,test_SB_J,test_SB_h,processing_time_sb)\n",
    "\n",
    "                    with open('test_MOSEK.nosync/results_SB_' + str(N) + '_' + str(scale) + \"_\" + str(i) + '.npz', 'wb') as f:\n",
    "                        np.savez(f, processing_time=processing_time_sb, spins=spins_sb, energy=energy_sb, J=test_SB_J, h=test_SB_h)\n",
    "\n",
    "                    with open('test_MOSEK.nosync/results_MOSEKs_' + str(N) + '_' + str(scale) + \"_\" + str(i) + '.npz', 'wb') as f:\n",
    "                        np.savez(f, processing_time=processing_time_MOSEK_stopped, spins=spins_MOSEK_stopped, energy=energy_MOSEK_stopped, J=test_SB_J, h=test_SB_h)\n",
    "                \n",
    "                    os.remove('test_MOSEK.nosync/test_SB_J_' + str(N) + '_' + str(scale) + \"_\" + str(i) + '.npy')\n",
    "                    os.remove('test_MOSEK.nosync/test_SB_h_' + str(N) + '_' + str(scale) + \"_\" + str(i) + '.npy')\n",
    "                    os.remove('test_MOSEK.nosync/test_MOSEK_J_' + str(N) + '_' + str(scale) + \"_\" + str(i) + '.npy')\n",
    "                    os.remove('test_MOSEK.nosync/test_MOSEK_h_' + str(N) + '_' + str(scale) + \"_\" + str(i) + '.npy')"
   ]
  },
  {
   "cell_type": "code",
   "execution_count": 6,
   "metadata": {},
   "outputs": [
    {
     "name": "stderr",
     "output_type": "stream",
     "text": [
      "  0%|          | 0/10 [00:00<?, ?it/s]/Users/lorpugliese/miniforge3/lib/python3.8/site-packages/pulp/pulp.py:1352: UserWarning: Spaces are not permitted in the name. Converted to '_'\n",
      "  warnings.warn(\"Spaces are not permitted in the name. Converted to '_'\")\n",
      "100%|██████████| 10/10 [1:02:01<00:00, 372.12s/it]\n"
     ]
    },
    {
     "name": "stdout",
     "output_type": "stream",
     "text": []
    }
   ],
   "source": [
    "test_protocol(N_range,scale_range,N_samples,compute_SB=True)"
   ]
  },
  {
   "cell_type": "code",
   "execution_count": 7,
   "metadata": {},
   "outputs": [
    {
     "name": "stdout",
     "output_type": "stream",
     "text": []
    }
   ],
   "source": [
    "results = {}\n",
    "\n",
    "for N in N_range:\n",
    "    results[N] = {}\n",
    "    for scale in scale_range:\n",
    "        results[N][scale] = {}\n",
    "        for i in range(N_samples):\n",
    "            results[N][scale][i] = {}\n",
    "\n",
    "            with open('test_MOSEK.nosync/results_MOSEK_' + str(N) + '_' + str(scale) + \"_\" + str(i) + '.npz', 'rb') as f:\n",
    "                data_MOSEK = np.load(f)\n",
    "                results[N][scale][i]['MOSEK Energy'] = data_MOSEK['energy']\n",
    "                results[N][scale][i]['MOSEK Spins'] = data_MOSEK['spins']\n",
    "                results[N][scale][i]['MOSEK Time'] = data_MOSEK['processing_time']                \n",
    "\n",
    "            with open('test_MOSEK.nosync/results_SB_' + str(N) + '_' + str(scale) + \"_\" + str(i) + '.npz', 'rb') as f:\n",
    "                data_SB = np.load(f)\n",
    "                results[N][scale][i]['SB Energy'] = data_SB['energy']\n",
    "                results[N][scale][i]['SB Spins'] = data_SB['spins']\n",
    "                results[N][scale][i]['SB Time'] = data_SB['processing_time'] \n",
    "\n",
    "            with open('test_MOSEK.nosync/results_MOSEKs_' + str(N) + '_' + str(scale) + \"_\" + str(i) + '.npz', 'rb') as f:\n",
    "                data_MOSEK_stopped = np.load(f)\n",
    "                results[N][scale][i]['MOSEK Stopped Energy'] = data_MOSEK_stopped['energy']\n",
    "                results[N][scale][i]['MOSEK Stopped Spins'] = data_MOSEK_stopped['spins']\n",
    "                results[N][scale][i]['MOSEK Stopped Time'] = data_MOSEK_stopped['processing_time'] "
   ]
  },
  {
   "cell_type": "code",
   "execution_count": 8,
   "metadata": {},
   "outputs": [
    {
     "name": "stdout",
     "output_type": "stream",
     "text": []
    }
   ],
   "source": [
    "data_plots = {}\n",
    "for N in N_range:\n",
    "    data_plots[N] = {}\n",
    "    for scale in scale_range:\n",
    "        data_plots[N][scale] = {}\n",
    "        data_plots[N][scale][\"SB\"] = sum([results[N][scale][i]['SB Energy'] for i in range(N_samples)])/N_samples\n",
    "        data_plots[N][scale][\"MOSEK Stopped\"] = sum([results[N][scale][i]['MOSEK Stopped Energy'] for i in range(N_samples)])/N_samples\n",
    "        data_plots[N][scale][\"MOSEK\"] = sum([results[N][scale][i]['MOSEK Energy'] for i in range(N_samples)])/N_samples\n",
    "        \n",
    "        data_plots[N][scale][\"SB Time\"] = sum([results[N][scale][i]['SB Time'] for i in range(N_samples)])/N_samples\n",
    "        data_plots[N][scale][\"MOSEK Stopped Time\"] = sum([results[N][scale][i]['MOSEK Stopped Time'] for i in range(N_samples)])/N_samples\n",
    "        data_plots[N][scale][\"MOSEK Time\"] = sum([results[N][scale][i]['MOSEK Time'] for i in range(N_samples)])/N_samples"
   ]
  },
  {
   "cell_type": "code",
   "execution_count": 9,
   "metadata": {},
   "outputs": [
    {
     "data": {
      "text/plain": [
       "<matplotlib.legend.Legend at 0x1202e6c70>"
      ]
     },
     "execution_count": 9,
     "metadata": {},
     "output_type": "execute_result"
    },
    {
     "data": {
      "image/png": "[encoded data removed]",
      "text/plain": [
       "<Figure size 432x288 with 1 Axes>"
      ]
     },
     "metadata": {
      "needs_background": "light"
     },
     "output_type": "display_data"
    },
    {
     "name": "stdout",
     "output_type": "stream",
     "text": []
    }
   ],
   "source": [
    "scale = 4\n",
    "plt.plot(N_range,[data_plots[N][scale][\"SB\"] for N in N_range], label=\"SB\")\n",
    "plt.plot(N_range,[data_plots[N][scale][\"MOSEK\"] for N in N_range], label=\"MOSEK\")\n",
    "plt.plot(N_range,[data_plots[N][scale][\"MOSEK Stopped\"] for N in N_range], label=\"MOSEK Stopped\")\n",
    "plt.xlabel(r'$N \\alpha$')\n",
    "plt.ylabel('Energy (lower is better)')\n",
    "plt.legend()"
   ]
  },
  {
   "cell_type": "code",
   "execution_count": 54,
   "metadata": {},
   "outputs": [
    {
     "data": {
      "text/plain": [
       "array(-0.04025549)"
      ]
     },
     "execution_count": 54,
     "metadata": {},
     "output_type": "execute_result"
    },
    {
     "name": "stdout",
     "output_type": "stream",
     "text": [
      "\r"
     ]
    }
   ],
   "source": [
    "results[50][4][0][\"MOSEK Energy\"]"
   ]
  },
  {
   "cell_type": "code",
   "execution_count": 82,
   "metadata": {},
   "outputs": [
    {
     "data": {
      "text/plain": [
       "<matplotlib.legend.Legend at 0x165560250>"
      ]
     },
     "execution_count": 82,
     "metadata": {},
     "output_type": "execute_result"
    },
    {
     "data": {
      "image/png": "[encoded data removed]",
      "text/plain": [
       "<Figure size 432x288 with 1 Axes>"
      ]
     },
     "metadata": {
      "needs_background": "light"
     },
     "output_type": "display_data"
    },
    {
     "name": "stdout",
     "output_type": "stream",
     "text": [
      "\r"
     ]
    }
   ],
   "source": [
    "N = 40\n",
    "plt.plot(scale_range,[sum([results[N][scale][i]['SB Time'] for i in range(N_samples)])/N_samples for scale in scale_range], label=\"SB\")\n",
    "plt.plot(scale_range,[sum([results[N][scale][i]['MOSEK Time'] for i in range(N_samples)])/N_samples for scale in scale_range], label=\"MOSEK\")\n",
    "plt.legend()"
   ]
  },
  {
   "cell_type": "code",
   "execution_count": 11,
   "metadata": {},
   "outputs": [
    {
     "data": {
      "text/plain": [
       "<matplotlib.legend.Legend at 0x328b4d4f0>"
      ]
     },
     "execution_count": 11,
     "metadata": {},
     "output_type": "execute_result"
    },
    {
     "data": {
      "image/png": "[encoded data removed]",
      "text/plain": [
       "<Figure size 432x288 with 1 Axes>"
      ]
     },
     "metadata": {
      "needs_background": "light"
     },
     "output_type": "display_data"
    },
    {
     "name": "stdout",
     "output_type": "stream",
     "text": []
    }
   ],
   "source": [
    "plt.plot(N_range[:4],[sum([data_plots[N][scale][\"SB Time\"] for scale in scale_range])/len(scale_range) for N in N_range[:4]], label=\"SB\")\n",
    "plt.plot(N_range[:4],[sum([data_plots[N][scale][\"MOSEK Time\"] for scale in scale_range])/len(scale_range) for N in N_range[:4]], label=\"MOSEK\")\n",
    "plt.xlabel(r'$N\\alpha$')\n",
    "plt.ylabel('Time (seconds)')\n",
    "plt.yscale('log')\n",
    "plt.legend()"
   ]
  }
 ],
 "metadata": {
  "kernelspec": {
   "display_name": "Python 3 (ipykernel)",
   "language": "python",
   "name": "python3"
  },
  "language_info": {
   "codemirror_mode": {
    "name": "ipython",
    "version": 3
   },
   "file_extension": ".py",
   "mimetype": "text/x-python",
   "name": "python",
   "nbconvert_exporter": "python",
   "pygments_lexer": "ipython3",
   "version": "3.8.12"
  },
  "vscode": {
   "interpreter": {
    "hash": "71d8a752a9bd071be894aa2653f0e2c4716ba14f224bf934e8614d7562b157cb"
   }
  }
 },
 "nbformat": 4,
 "nbformat_minor": 2
}
