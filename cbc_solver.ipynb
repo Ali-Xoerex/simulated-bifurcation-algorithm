{
 "cells": [
  {
   "cell_type": "code",
   "execution_count": 15,
   "metadata": {},
   "outputs": [],
   "source": [
    "from simulated_bifurcation import Ising\n",
    "from tqdm import tqdm\n",
    "import matplotlib.pyplot as plt\n",
    "import pulp as pl\n",
    "import numpy as np\n",
    "import time\n",
    "import os\n",
    "\n",
    "N_range = [10,20,30,50,70,100,150,200]\n",
    "scale_range = [6,5,4,3,2,1,0,-1]\n",
    "N_samples = 100\n",
    "\n",
    "def generate_J_h(N_range,scale_range,N_samples):\n",
    "    for N in N_range:\n",
    "        for scale in scale_range:\n",
    "            for i in range(N_samples):\n",
    "                J = np.random.uniform(-10,10,size=(N, N))/(10**scale)\n",
    "                J = (J + J.T)/2\n",
    "                J = J - np.diag(np.diag(J))\n",
    "                h = np.random.uniform(-10,10,size=N)/(10**(scale-int(i%5)+2))\n",
    "\n",
    "                with open('test_cbc/test_CBC_J_' + str(N) + '_' + str(scale) + \"_\" + str(i) + '.npy', 'wb') as f:\n",
    "                    np.save(f, J)\n",
    "\n",
    "                with open('test_cbc/test_CBC_h_' + str(N) + '_' + str(scale) + \"_\" + str(i) + '.npy', 'wb') as f:\n",
    "                    np.save(f, h)\n",
    "\n",
    "                with open('test_cbc/test_SB_J_' + str(N) + '_' + str(scale) + \"_\" + str(i) + '.npy', 'wb') as f:\n",
    "                    np.save(f, J/4)\n",
    "\n",
    "                with open('test_cbc/test_SB_h_' + str(N) + '_' + str(scale) + \"_\" + str(i) + '.npy', 'wb') as f:\n",
    "                    np.save(f, h/2 - sum([J[:,i]/8 for i in range(N)]) - sum([J[i,:]/8 for i in range(N)]))\n",
    "\n",
    "generate_J_h(N_range,scale_range,N_samples)"
   ]
  },
  {
   "cell_type": "code",
   "execution_count": 2,
   "metadata": {},
   "outputs": [],
   "source": [
    "def create_optimize_cbc(J,h,J_SB,h_SB,max_seconds=-1):\n",
    "    time_1 = time.time()\n",
    "    size = J.shape[0]\n",
    "\n",
    "    model = pl.LpProblem(\"Linear Optimization\", pl.LpMinimize)\n",
    "    x = pl.LpVariable.dicts('x', list(range(size)), lowBound=0, upBound=1, cat='Integer')\n",
    "    z = pl.LpVariable.dicts('z', [(i,j) for i in range(size) for j in range(size)], lowBound=0, upBound=1, cat='Integer')\n",
    "\n",
    "    for i in range(size):\n",
    "        for j in range(size):\n",
    "            model += z[i,j] <= x[i]\n",
    "            model += z[i,j] <= x[j]\n",
    "            model += z[i,j] >= x[i] + x[j] -1\n",
    "\n",
    "    model += pl.lpSum([(-1/2)*J[i][j]*z[i,j] for i in range(size) for j in range(size)]) + pl.lpSum([x[i]*h[i] for i in range(size)])\n",
    "\n",
    "    if max_seconds == -1:\n",
    "        model.solve(pl.PULP_CBC_CMD(msg=0, timeLimit=60*5))\n",
    "    else:\n",
    "        model.solve(pl.PULP_CBC_CMD(msg=0, timeLimit=max_seconds))\n",
    "\n",
    "    spins = [1 if x[i].varValue >= 0.99 else -1 for i in range(size)]\n",
    "    energy = (-1/2)*sum([sum([J_SB[i,j]*spins[j] for j in range(size)])*spins[i] for i in range(size)]) + sum([h_SB[i]*spins[i] for i in range(size)])[0]\n",
    "\n",
    "    processing_time = time.time() - time_1\n",
    "    return (processing_time,np.array(spins),energy)"
   ]
  },
  {
   "cell_type": "code",
   "execution_count": 3,
   "metadata": {},
   "outputs": [],
   "source": [
    "def create_optimize_SB(J,h):\n",
    "    time_1 = time.time()\n",
    "\n",
    "    model = Ising(J,h)\n",
    "    model.optimize(convergence_threshold = 35,\n",
    "        sampling_period = 60,\n",
    "        time_step = 0.01, \n",
    "        symplectic_parameter = 2,\n",
    "        agents = 5,\n",
    "        ballistic=False,\n",
    "        heated=True,\n",
    "        final_pressure=1.,\n",
    "        pressure_slope=0.2)\n",
    "\n",
    "    processing_time = time.time() - time_1\n",
    "    return(processing_time, model.ground_state, model.energy)"
   ]
  },
  {
   "cell_type": "code",
   "execution_count": 4,
   "metadata": {},
   "outputs": [],
   "source": [
    "def test_protocol(N_range,scale_range,N_samples,compute_SB=True):\n",
    "    for N in tqdm(N_range):\n",
    "        for scale in scale_range:\n",
    "            for i in range(N_samples):\n",
    "                with open('test_cbc/test_SB_J_' + str(N) + '_' + str(scale) + \"_\" + str(i) + '.npy', 'rb') as f:\n",
    "                    test_SB_J = np.load(f)\n",
    "\n",
    "                with open('test_cbc/test_SB_h_' + str(N) + '_' + str(scale) + \"_\" + str(i) + '.npy', 'rb') as f:\n",
    "                    test_SB_h = np.expand_dims(np.load(f),axis=1)\n",
    "\n",
    "                with open('test_cbc/test_CBC_J_' + str(N) + '_' + str(scale) + \"_\" + str(i) + '.npy', 'rb') as f:\n",
    "                    test_CBC_J = np.load(f)\n",
    "\n",
    "                with open('test_cbc/test_CBC_h_' + str(N) + '_' + str(scale) + \"_\" + str(i) + '.npy', 'rb') as f:\n",
    "                    test_CBC_h = np.load(f)\n",
    "\n",
    "                processing_time_cbc, spins_cbc, energy_cbc = create_optimize_cbc(test_CBC_J,test_CBC_h,test_SB_J,test_SB_h)\n",
    "                with open('test_cbc/results_CBC_' + str(N) + '_' + str(scale) + \"_\" + str(i) + '.npz', 'wb') as f:\n",
    "                    np.savez(f, processing_time=processing_time_cbc, spins=spins_cbc, energy=energy_cbc, J=test_SB_J, h=test_SB_h)\n",
    "\n",
    "                if compute_SB:\n",
    "                    processing_time_sb, spins_sb, energy_sb = create_optimize_SB(test_SB_J,test_SB_h)\n",
    "                    processing_time_cbc_stopped, spins_cbc_stopped, energy_cbc_stopped = create_optimize_cbc(test_CBC_J,test_CBC_h,test_SB_J,test_SB_h,processing_time_sb)\n",
    "\n",
    "                    with open('test_cbc/results_SB_' + str(N) + '_' + str(scale) + \"_\" + str(i) + '.npz', 'wb') as f:\n",
    "                        np.savez(f, processing_time=processing_time_sb, spins=spins_sb, energy=energy_sb, J=test_SB_J, h=test_SB_h)\n",
    "\n",
    "                    with open('test_cbc/results_CBCs_' + str(N) + '_' + str(scale) + \"_\" + str(i) + '.npz', 'wb') as f:\n",
    "                        np.savez(f, processing_time=processing_time_cbc_stopped, spins=spins_cbc_stopped, energy=energy_cbc_stopped, J=test_SB_J, h=test_SB_h)\n",
    "                \n",
    "                    os.remove('test_cbc/test_SB_J_' + str(N) + '_' + str(scale) + \"_\" + str(i) + '.npy')\n",
    "                    os.remove('test_cbc/test_SB_h_' + str(N) + '_' + str(scale) + \"_\" + str(i) + '.npy')\n",
    "                    os.remove('test_cbc/test_CBC_J_' + str(N) + '_' + str(scale) + \"_\" + str(i) + '.npy')\n",
    "                    os.remove('test_cbc/test_CBC_h_' + str(N) + '_' + str(scale) + \"_\" + str(i) + '.npy')"
   ]
  },
  {
   "cell_type": "code",
   "execution_count": 18,
   "metadata": {},
   "outputs": [
    {
     "name": "stderr",
     "output_type": "stream",
     "text": [
      "100%|██████████| 1/1 [00:29<00:00, 29.76s/it]\n"
     ]
    }
   ],
   "source": [
    "test_protocol(N_range[:1],scale_range,N_samples,compute_SB=False)"
   ]
  },
  {
   "cell_type": "code",
   "execution_count": 19,
   "metadata": {},
   "outputs": [
    {
     "name": "stdout",
     "output_type": "stream",
     "text": [
      "[[ 0.         -0.00886002 -0.01404931  0.00288673  0.02348764  0.00999745\n",
      "  -0.003204    0.00184856 -0.01194099  0.0016838 ]\n",
      " [-0.00886002  0.          0.00911726 -0.01401998  0.00433422 -0.0095467\n",
      "   0.00142408 -0.01016181  0.01782817 -0.00556043]\n",
      " [-0.01404931  0.00911726  0.          0.01875427 -0.00905596 -0.00932419\n",
      "  -0.01255367  0.00377574 -0.01634557  0.00573375]\n",
      " [ 0.00288673 -0.01401998  0.01875427  0.         -0.00255743 -0.01353691\n",
      "  -0.00421798  0.01110312 -0.02297656 -0.00267073]\n",
      " [ 0.02348764  0.00433422 -0.00905596 -0.00255743  0.          0.00253662\n",
      "   0.00728224  0.00155693 -0.00283712 -0.00955113]\n",
      " [ 0.00999745 -0.0095467  -0.00932419 -0.01353691  0.00253662  0.\n",
      "  -0.00033747 -0.00567702 -0.00323433 -0.01984821]\n",
      " [-0.003204    0.00142408 -0.01255367 -0.00421798  0.00728224 -0.00033747\n",
      "   0.          0.01499336  0.00220932  0.00832736]\n",
      " [ 0.00184856 -0.01016181  0.00377574  0.01110312  0.00155693 -0.00567702\n",
      "   0.01499336  0.         -0.00971826  0.00459762]\n",
      " [-0.01194099  0.01782817 -0.01634557 -0.02297656 -0.00283712 -0.00323433\n",
      "   0.00220932 -0.00971826  0.         -0.00923732]\n",
      " [ 0.0016838  -0.00556043  0.00573375 -0.00267073 -0.00955113 -0.01984821\n",
      "   0.00832736  0.00459762 -0.00923732  0.        ]]\n"
     ]
    },
    {
     "data": {
      "text/plain": [
       "'\\nwith open(\\'test_cbc/results_SB_\\' + str(N) + \\'_\\' + str(scale) + \"_\" + str(i) + \\'.npz\\', \\'rb\\') as f:\\n    data_SB = np.load(f)\\n\\nwith open(\\'test_cbc/results_CBCs_\\' + str(N) + \\'_\\' + str(scale) + \"_\" + str(i) + \\'.npz\\', \\'rb\\') as f:\\n    data_CBC_stopped = np.load(f)\\n'"
      ]
     },
     "execution_count": 19,
     "metadata": {},
     "output_type": "execute_result"
    }
   ],
   "source": [
    "N = 10\n",
    "scale = 1\n",
    "i = 1\n",
    "\n",
    "with open('test_cbc/results_CBC_' + str(N) + '_' + str(scale) + \"_\" + str(i) + '.npz', 'rb') as f:\n",
    "    data_CBC = np.load(f)\n",
    "    print(data_CBC['J'])\n",
    "\n",
    "\"\"\"\n",
    "with open('test_cbc/results_SB_' + str(N) + '_' + str(scale) + \"_\" + str(i) + '.npz', 'rb') as f:\n",
    "    data_SB = np.load(f)\n",
    "\n",
    "with open('test_cbc/results_CBCs_' + str(N) + '_' + str(scale) + \"_\" + str(i) + '.npz', 'rb') as f:\n",
    "    data_CBC_stopped = np.load(f)\n",
    "\"\"\""
   ]
  }
 ],
 "metadata": {
  "kernelspec": {
   "display_name": "Python 3.8.12 ('base')",
   "language": "python",
   "name": "python3"
  },
  "language_info": {
   "codemirror_mode": {
    "name": "ipython",
    "version": 3
   },
   "file_extension": ".py",
   "mimetype": "text/x-python",
   "name": "python",
   "nbconvert_exporter": "python",
   "pygments_lexer": "ipython3",
   "version": "3.8.12"
  },
  "orig_nbformat": 4,
  "vscode": {
   "interpreter": {
    "hash": "71d8a752a9bd071be894aa2653f0e2c4716ba14f224bf934e8614d7562b157cb"
   }
  }
 },
 "nbformat": 4,
 "nbformat_minor": 2
}
