{
 "cells": [
  {
   "cell_type": "code",
   "execution_count": 13,
   "metadata": {},
   "outputs": [
    {
     "name": "stdout",
     "output_type": "stream",
     "text": [
      "\r"
     ]
    }
   ],
   "source": [
    "from simulated_bifurcation import Ising\n",
    "from tqdm import tqdm\n",
    "import matplotlib.pyplot as plt\n",
    "import pulp as pl\n",
    "import numpy as np\n",
    "import time\n",
    "import json\n",
    "\n",
    "N_range = [10]\n",
    "alpha_range = [10]\n",
    "\n",
    "def generate_J_h(N_range,alpha_range):\n",
    "    for N in N_range:\n",
    "        for alpha in alpha_range:\n",
    "            J = np.random.randint(-100,100,size=(N*alpha, N*alpha))/(10**6)\n",
    "            J = (J + J.T)/2\n",
    "            J = J - np.diag(np.diag(J))\n",
    "            h = np.random.randint(-100,100,size=N*alpha)/(10**4)\n",
    "\n",
    "            with open('test_cbc/test_CBC_J_' + str(N) + '_' + str(alpha) + '.npy', 'wb') as f:\n",
    "                np.save(f, J)\n",
    "\n",
    "            with open('test_cbc/test_CBC_h_' + str(N) + '_' + str(alpha) + '.npy', 'wb') as f:\n",
    "                np.save(f, h)\n",
    "\n",
    "            with open('test_cbc/test_SB_J_' + str(N) + '_' + str(alpha) + '.npy', 'wb') as f:\n",
    "                np.save(f, J/4)\n",
    "\n",
    "            with open('test_cbc/test_SB_h_' + str(N) + '_' + str(alpha) + '.npy', 'wb') as f:\n",
    "                np.save(f, h/2 - sum([J[:,i]/8 for i in range(N*alpha)]) - sum([J[i,:]/8 for i in range(N*alpha)]))\n",
    "\n",
    "generate_J_h(N_range,alpha_range)"
   ]
  },
  {
   "cell_type": "code",
   "execution_count": 3,
   "metadata": {},
   "outputs": [],
   "source": [
    "def create_optimize_gurobi(J,h,J_SB,h_SB,max_seconds=-1):\n",
    "    time_1 = time.time()\n",
    "    size = J.shape[0]\n",
    "\n",
    "    model = pl.LpProblem(\"Linear Optimization\", pl.LpMinimize)\n",
    "    x = pl.LpVariable.dicts('x', list(range(size)), lowBound=0, upBound=1, cat='Integer')\n",
    "    z = pl.LpVariable.dicts('z', [(i,j) for i in range(size) for j in range(size)], lowBound=0, upBound=1, cat='Integer')\n",
    "\n",
    "    for i in range(size):\n",
    "        for j in range(size):\n",
    "            model += z[i,j] <= x[i]\n",
    "            model += z[i,j] <= x[j]\n",
    "            model += z[i,j] >= x[i] + x[j] -1\n",
    "\n",
    "    model += pl.lpSum([(-1/2)*J[i][j]*z[i,j] for i in range(size) for j in range(size)]) + pl.lpSum([x[i]*h[i] for i in range(size)])\n",
    "\n",
    "    if max_seconds == -1:\n",
    "        model.solve(pl.PULP_CBC_CMD(msg=0, timeLimit=60*10))\n",
    "    else:\n",
    "        model.solve(pl.PULP_CBC_CMD(msg=0, timeLimit=max_seconds))\n",
    "\n",
    "    spins = [1 if x[i].varValue >= 0.99 else -1 for i in range(size)]\n",
    "    energy = (-1/2)*sum([sum([J_SB[i,j]*spins[j] for j in range(size)])*spins[i] for i in range(size)]) + sum([h_SB[i]*spins[i] for i in range(size)])[0]\n",
    "\n",
    "    processing_time = time.time() - time_1\n",
    "    return (processing_time,np.array(spins),energy)"
   ]
  },
  {
   "cell_type": "code",
   "execution_count": 4,
   "metadata": {},
   "outputs": [],
   "source": [
    "def create_optimize_SB(J,h):\n",
    "    time_1 = time.time()\n",
    "\n",
    "    model = Ising(J,h)\n",
    "    model.optimize(convergence_threshold = 35,\n",
    "        sampling_period = 60,\n",
    "        time_step = 0.01, \n",
    "        symplectic_parameter = 2,\n",
    "        agents = 5,\n",
    "        ballistic=False,\n",
    "        heated=True,\n",
    "        final_pressure=1.,\n",
    "        pressure_slope=0.2)\n",
    "\n",
    "    processing_time = time.time() - time_1\n",
    "    return(processing_time, model.ground_state, model.energy)"
   ]
  },
  {
   "cell_type": "code",
   "execution_count": 5,
   "metadata": {},
   "outputs": [],
   "source": [
    "def test_protocol(N_range, alpha_range):\n",
    "    energy_precision = {}\n",
    "    proc_times = {}\n",
    "    energy_precision_stop = {}\n",
    "\n",
    "    for N in tqdm(N_range):\n",
    "        energy_precision[N] = {}\n",
    "        proc_times[N] = {}\n",
    "        energy_precision_stop[N] = {}\n",
    "        for alpha in alpha_range:\n",
    "            with open('test_cbc/test_SB_J_' + str(N) + '_' + str(alpha) + '.npy', 'rb') as f:\n",
    "                test_SB_J = np.load(f)\n",
    "\n",
    "            with open('test_cbc/test_SB_h_' + str(N) + '_' + str(alpha) + '.npy', 'rb') as f:\n",
    "                test_SB_h = np.expand_dims(np.load(f),axis=1)\n",
    "\n",
    "            with open('test_cbc/test_CBC_J_' + str(N) + '_' + str(alpha) + '.npy', 'rb') as f:\n",
    "                test_CBC_J = np.load(f)\n",
    "\n",
    "            with open('test_cbc/test_CBC_h_' + str(N) + '_' + str(alpha) + '.npy', 'rb') as f:\n",
    "                test_CBC_h = np.load(f)\n",
    "\n",
    "            processing_time_sb, _, energy_sb = create_optimize_SB(test_SB_J,test_SB_h)\n",
    "            processing_time_cbc, _, energy_cbc = create_optimize_gurobi(test_CBC_J,test_CBC_h,test_SB_J,test_SB_h)\n",
    "            _, _, energy_cbc_stopped = create_optimize_gurobi(test_CBC_J,test_CBC_h,test_SB_J,test_SB_h,processing_time_sb)\n",
    "\n",
    "            energy_precision[N][alpha] = round((energy_sb - energy_cbc)/abs(energy_cbc),6)\n",
    "            proc_times[N][alpha] = round(processing_time_cbc/processing_time_sb,2)\n",
    "            energy_precision_stop[N][alpha] = round((energy_cbc_stopped - energy_sb)/abs(energy_sb),6)\n",
    "\n",
    "    return energy_precision,proc_times,energy_precision_stop"
   ]
  },
  {
   "cell_type": "code",
   "execution_count": 8,
   "metadata": {},
   "outputs": [
    {
     "name": "stderr",
     "output_type": "stream",
     "text": [
      "  0%|          | 0/1 [00:00<?, ?it/s]"
     ]
    },
    {
     "name": "stdout",
     "output_type": "stream",
     "text": [
      "✔ Building solver⠙ Building solver Solver built\n",
      "✔ Spins evolving⠙ Bifurcated spins 0/5 Spins bifurcated in 0.177 sec.\n",
      "✔ Retrieving ground state⠙ Retrieving ground state Ground state retrieved\n"
     ]
    },
    {
     "name": "stderr",
     "output_type": "stream",
     "text": [
      "100%|██████████| 1/1 [00:05<00:00,  5.57s/it]\n"
     ]
    },
    {
     "name": "stdout",
     "output_type": "stream",
     "text": [
      "\r"
     ]
    }
   ],
   "source": [
    "precisions_dict, times_dict, precisions_early_stopping_dict = test_protocol(N_range,alpha_range)\n",
    "\n",
    "with open('test_cbc/precisions.json', 'w') as json_file:\n",
    "    json.dump(precisions_dict,json_file)\n",
    "\n",
    "with open('test_cbc/precisions_early_stopping.json', 'w') as json_file:\n",
    "    json.dump(precisions_early_stopping_dict,json_file)\n",
    "\n",
    "with open('test_cbc/times.json', 'w') as json_file:\n",
    "    json.dump(times_dict,json_file)"
   ]
  },
  {
   "cell_type": "code",
   "execution_count": 9,
   "metadata": {},
   "outputs": [
    {
     "name": "stdout",
     "output_type": "stream",
     "text": [
      "\r"
     ]
    }
   ],
   "source": [
    "with open('test_cbc/precisions.json', 'r') as json_file:\n",
    "    precisions_dict = json.load(json_file)\n",
    "\n",
    "with open('test_cbc/precisions_early_stopping.json', 'r') as json_file:\n",
    "    precisions_early_stopping_dict = json.load(json_file)\n",
    "\n",
    "with open('test_cbc/times.json', 'r') as json_file:\n",
    "    times_dict = json.load(json_file)"
   ]
  },
  {
   "cell_type": "code",
   "execution_count": 10,
   "metadata": {},
   "outputs": [
    {
     "data": {
      "text/plain": [
       "{'10': {'10': 8.15}}"
      ]
     },
     "execution_count": 10,
     "metadata": {},
     "output_type": "execute_result"
    },
    {
     "name": "stdout",
     "output_type": "stream",
     "text": [
      "\r"
     ]
    }
   ],
   "source": [
    "times_dict"
   ]
  },
  {
   "cell_type": "code",
   "execution_count": 11,
   "metadata": {},
   "outputs": [
    {
     "data": {
      "text/plain": [
       "{'10': {'10': 0.0}}"
      ]
     },
     "execution_count": 11,
     "metadata": {},
     "output_type": "execute_result"
    },
    {
     "name": "stdout",
     "output_type": "stream",
     "text": [
      "\r"
     ]
    }
   ],
   "source": [
    "precisions_early_stopping_dict"
   ]
  },
  {
   "cell_type": "code",
   "execution_count": 12,
   "metadata": {},
   "outputs": [
    {
     "data": {
      "text/plain": [
       "{'10': {'10': 0.0}}"
      ]
     },
     "execution_count": 12,
     "metadata": {},
     "output_type": "execute_result"
    },
    {
     "name": "stdout",
     "output_type": "stream",
     "text": [
      "\r"
     ]
    }
   ],
   "source": [
    "precisions_dict"
   ]
  }
 ],
 "metadata": {
  "kernelspec": {
   "display_name": "Python 3.8.12 ('base')",
   "language": "python",
   "name": "python3"
  },
  "language_info": {
   "codemirror_mode": {
    "name": "ipython",
    "version": 3
   },
   "file_extension": ".py",
   "mimetype": "text/x-python",
   "name": "python",
   "nbconvert_exporter": "python",
   "pygments_lexer": "ipython3",
   "version": "3.8.12"
  },
  "orig_nbformat": 4,
  "vscode": {
   "interpreter": {
    "hash": "71d8a752a9bd071be894aa2653f0e2c4716ba14f224bf934e8614d7562b157cb"
   }
  }
 },
 "nbformat": 4,
 "nbformat_minor": 2
}
