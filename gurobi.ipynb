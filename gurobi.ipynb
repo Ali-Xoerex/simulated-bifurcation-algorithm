{
 "cells": [
  {
   "cell_type": "code",
   "execution_count": 56,
   "metadata": {},
   "outputs": [
    {
     "name": "stdout",
     "output_type": "stream",
     "text": [
      "\r"
     ]
    }
   ],
   "source": [
    "from mip import *\n",
    "import numpy as np\n",
    "import time\n",
    "from simulated_bifurcation import Ising\n",
    "import json\n",
    "from tqdm import tqdm\n",
    "import matplotlib.pyplot as plt\n",
    "\n",
    "N_range = list(range(50,1001,50))\n",
    "alpha_range = [1]\n",
    "\n",
    "def generate_J_h(N_range,alpha_range):\n",
    "    for N in N_range:\n",
    "        for alpha in alpha_range:\n",
    "            J = np.random.randint(-100,100,size=(N*alpha, N*alpha))/(10**6)\n",
    "            J = (J + J.T)/2\n",
    "            J = J - np.diag(np.diag(J))\n",
    "            h = np.random.randint(-100,100,size=N*alpha)/(10**4)\n",
    "\n",
    "            with open('test_gurobi/test_GB_J_' + str(N) + '_' + str(alpha) + '.npy', 'wb') as f:\n",
    "                np.save(f, J)\n",
    "\n",
    "            with open('test_gurobi/test_GB_h_' + str(N) + '_' + str(alpha) + '.npy', 'wb') as f:\n",
    "                np.save(f, h)\n",
    "\n",
    "            with open('test_gurobi/test_SB_J_' + str(N) + '_' + str(alpha) + '.npy', 'wb') as f:\n",
    "                np.save(f, J/4)\n",
    "\n",
    "            with open('test_gurobi/test_SB_h_' + str(N) + '_' + str(alpha) + '.npy', 'wb') as f:\n",
    "                np.save(f, h/2 - sum([J[:,i]/8 for i in range(N*alpha)]) - sum([J[i,:]/8 for i in range(N*alpha)]))\n",
    "\n",
    "generate_J_h(N_range,alpha_range)"
   ]
  },
  {
   "cell_type": "code",
   "execution_count": 57,
   "metadata": {},
   "outputs": [
    {
     "name": "stdout",
     "output_type": "stream",
     "text": [
      "\r"
     ]
    }
   ],
   "source": [
    "def create_optimize_gurobi(J,h,J_SB,h_SB,max_seconds=-1):\n",
    "    time_1 = time.time()\n",
    "    size = J.shape[0]\n",
    "\n",
    "    model = Model(\"Ising\", solver_name=GRB)\n",
    "    model.verbose = 0\n",
    "    u = [model.add_var(var_type=BINARY) for _ in range(size)]\n",
    "    z = [[model.add_var(var_type=BINARY) for _ in range(size)] for _ in range(size)]\n",
    "\n",
    "    for i in range(size):\n",
    "        for j in range(size):\n",
    "            model += z[i][j] <= u[i]\n",
    "            model += z[i][j] <= u[j]\n",
    "            model += z[i][j] >= u[i] + u[j] -1\n",
    "\n",
    "    model.objective = minimize((-1/2)*quicksum(quicksum(J[i,j]*z[i][j] for i in range(size)) for j in range(size)) + quicksum(h[i]*u[i] for i in range(size)))\n",
    "    if max_seconds == -1:\n",
    "        model.optimize(max_seconds=300)\n",
    "    else:\n",
    "        model.optimize(max_seconds=max_seconds)\n",
    "\n",
    "    spins = [1 if u[i].x >= 0.99 else -1 for i in range(size)]\n",
    "    energy = (-1/2)*sum([sum([J_SB[i,j]*spins[j] for j in range(size)])*spins[i] for i in range(size)]) + sum([h_SB[i]*spins[i] for i in range(size)])[0]\n",
    "\n",
    "    processing_time = time.time() - time_1\n",
    "    return (processing_time,np.array(spins),energy)"
   ]
  },
  {
   "cell_type": "code",
   "execution_count": 58,
   "metadata": {},
   "outputs": [
    {
     "name": "stdout",
     "output_type": "stream",
     "text": [
      "\r"
     ]
    }
   ],
   "source": [
    "def create_optimize_SB(J,h):\n",
    "    time_1 = time.time()\n",
    "\n",
    "    model = Ising(J,h)\n",
    "    model.optimize(convergence_threshold = 35,\n",
    "        sampling_period = 60,\n",
    "        time_step = 0.01, \n",
    "        symplectic_parameter = 2,\n",
    "        agents = 5,\n",
    "        ballistic=False,\n",
    "        heated=True,\n",
    "        final_pressure=1.,\n",
    "        pressure_slope=0.2)\n",
    "\n",
    "    processing_time = time.time() - time_1\n",
    "    return(processing_time, model.ground_state, model.energy)"
   ]
  },
  {
   "cell_type": "code",
   "execution_count": 59,
   "metadata": {},
   "outputs": [
    {
     "name": "stdout",
     "output_type": "stream",
     "text": [
      "\r"
     ]
    }
   ],
   "source": [
    "def test_protocol(N_range, alpha_range):\n",
    "    energy_precision = {}\n",
    "    proc_times = {}\n",
    "    energy_precision_stop = {}\n",
    "\n",
    "    for N in tqdm(N_range):\n",
    "        energy_precision[N] = {}\n",
    "        proc_times[N] = {}\n",
    "        energy_precision_stop[N] = {}\n",
    "        for alpha in alpha_range:\n",
    "            with open('test_gurobi/test_SB_J_' + str(N) + '_' + str(alpha) + '.npy', 'rb') as f:\n",
    "                test_SB_J = np.load(f)\n",
    "\n",
    "            with open('test_gurobi/test_SB_h_' + str(N) + '_' + str(alpha) + '.npy', 'rb') as f:\n",
    "                test_SB_h = np.expand_dims(np.load(f),axis=1)\n",
    "\n",
    "            with open('test_gurobi/test_GB_J_' + str(N) + '_' + str(alpha) + '.npy', 'rb') as f:\n",
    "                test_GB_J = np.load(f)\n",
    "\n",
    "            with open('test_gurobi/test_GB_h_' + str(N) + '_' + str(alpha) + '.npy', 'rb') as f:\n",
    "                test_GB_h = np.load(f)\n",
    "\n",
    "            processing_time_sb, _, energy_sb = create_optimize_SB(test_SB_J,test_SB_h)\n",
    "            processing_time_gb, _, energy_gb = create_optimize_gurobi(test_GB_J,test_GB_h,test_SB_J,test_SB_h)\n",
    "            _, _, energy_gb_stopped = create_optimize_gurobi(test_GB_J,test_GB_h,test_SB_J,test_SB_h,processing_time_sb)\n",
    "\n",
    "            energy_precision[N][alpha] = round((energy_sb - energy_gb)/abs(energy_gb),6)\n",
    "            proc_times[N][alpha] = round(processing_time_gb/processing_time_sb,2)\n",
    "            energy_precision_stop[N][alpha] = round((energy_gb_stopped - energy_sb)/abs(energy_sb),6)\n",
    "\n",
    "    return energy_precision,proc_times,energy_precision_stop"
   ]
  },
  {
   "cell_type": "code",
   "execution_count": 79,
   "metadata": {},
   "outputs": [
    {
     "name": "stderr",
     "output_type": "stream",
     "text": [
      "  0%|          | 0/18 [00:00<?, ?it/s]"
     ]
    },
    {
     "name": "stdout",
     "output_type": "stream",
     "text": [
      "✔ Building solver⠙ Building solver Solver built\n",
      "✔ Spins evolving⠙ Bifurcated spins 0/5 Spins bifurcated in 0.183 sec.\n",
      "✔ Retrieving ground state⠙ Retrieving ground state Ground state retrieved\n",
      "Set parameter Username\n",
      "Academic license - for non-commercial use only - expires 2022-08-16\n",
      "Set parameter Username\n",
      "Academic license - for non-commercial use only - expires 2022-08-16\n"
     ]
    },
    {
     "name": "stderr",
     "output_type": "stream",
     "text": [
      "  6%|▌         | 1/18 [00:00<00:13,  1.25it/s]"
     ]
    },
    {
     "name": "stdout",
     "output_type": "stream",
     "text": [
      "✔ Building solver⠙ Building solver Solver built\n",
      "✔ Spins evolving⠙ Bifurcated spins 0/5⠹ Bifurcated spins 5/5 Spins bifurcated in 0.253 sec.\n",
      "✔ Retrieving ground state⠙ Retrieving ground state Ground state retrieved\n",
      "Set parameter Username\n",
      "Academic license - for non-commercial use only - expires 2022-08-16\n",
      "Set parameter Username\n",
      "Academic license - for non-commercial use only - expires 2022-08-16\n"
     ]
    },
    {
     "name": "stderr",
     "output_type": "stream",
     "text": [
      " 11%|█         | 2/18 [00:02<00:23,  1.47s/it]"
     ]
    },
    {
     "name": "stdout",
     "output_type": "stream",
     "text": [
      "✔ Building solver⠙ Building solver Solver built\n",
      "✔ Spins evolving⠙ Spins evolving⠹ Bifurcated spins 0/5⠸ Bifurcated spins 0/5⠼ Bifurcated spins 0/5 Spins bifurcated in 0.302 sec.\n",
      "✔ Retrieving ground state⠙ Retrieving ground state Ground state retrieved\n",
      "Set parameter Username\n",
      "Academic license - for non-commercial use only - expires 2022-08-16\n",
      "Set parameter Username\n",
      "Academic license - for non-commercial use only - expires 2022-08-16\n"
     ]
    },
    {
     "name": "stderr",
     "output_type": "stream",
     "text": [
      " 17%|█▋        | 3/18 [00:07<00:44,  2.97s/it]"
     ]
    },
    {
     "name": "stdout",
     "output_type": "stream",
     "text": [
      "✔ Building solver⠙ Building solver Solver built\n",
      "✔ Spins evolving⠙ Spins evolving⠹ Bifurcated spins 0/5⠸ Bifurcated spins 0/5⠼ Bifurcated spins 0/5⠴ Bifurcated spins 4/5 Spins bifurcated in 0.365 sec.\n",
      "✔ Retrieving ground state⠙ Retrieving ground state Ground state retrieved\n",
      "Set parameter Username\n",
      "Academic license - for non-commercial use only - expires 2022-08-16\n",
      "Set parameter Username\n",
      "Academic license - for non-commercial use only - expires 2022-08-16\n"
     ]
    },
    {
     "name": "stderr",
     "output_type": "stream",
     "text": [
      " 22%|██▏       | 4/18 [00:13<00:57,  4.12s/it]"
     ]
    },
    {
     "name": "stdout",
     "output_type": "stream",
     "text": [
      "✔ Building solver⠙ Building solver Solver built\n",
      "✔ Spins evolving⠙ Spins evolving⠹ Bifurcated spins 0/5⠸ Bifurcated spins 0/5⠼ Bifurcated spins 0/5⠴ Bifurcated spins 0/5⠦ Bifurcated spins 0/5 Spins bifurcated in 0.506 sec.\n",
      "✔ Retrieving ground state⠙ Retrieving ground state Ground state retrieved\n",
      "Set parameter Username\n",
      "Academic license - for non-commercial use only - expires 2022-08-16\n",
      "Set parameter Username\n",
      "Academic license - for non-commercial use only - expires 2022-08-16\n"
     ]
    },
    {
     "name": "stderr",
     "output_type": "stream",
     "text": [
      " 28%|██▊       | 5/18 [00:22<01:17,  5.93s/it]"
     ]
    },
    {
     "name": "stdout",
     "output_type": "stream",
     "text": [
      "✔ Building solver⠙ Building solver Solver built\n",
      "✔ Spins evolving⠙ Spins evolving⠹ Bifurcated spins 0/5⠸ Bifurcated spins 0/5⠼ Bifurcated spins 0/5⠴ Bifurcated spins 0/5⠦ Bifurcated spins 0/5⠧ Bifurcated spins 0/5⠇ Bifurcated spins 0/5 Spins bifurcated in 0.67 sec.\n",
      "✔ Retrieving ground state⠙ Retrieving ground state Ground state retrieved\n",
      "Set parameter Username\n",
      "Academic license - for non-commercial use only - expires 2022-08-16\n",
      "Set parameter Username\n",
      "Academic license - for non-commercial use only - expires 2022-08-16\n"
     ]
    },
    {
     "name": "stderr",
     "output_type": "stream",
     "text": [
      " 33%|███▎      | 6/18 [00:35<01:41,  8.46s/it]"
     ]
    },
    {
     "name": "stdout",
     "output_type": "stream",
     "text": [
      "✔ Building solver⠙ Building solver Solver built\n",
      "✔ Spins evolving⠙ Spins evolving⠹ Bifurcated spins 0/5⠸ Bifurcated spins 0/5⠼ Bifurcated spins 0/5⠴ Bifurcated spins 0/5⠦ Bifurcated spins 0/5⠧ Bifurcated spins 0/5⠇ Bifurcated spins 0/5⠏ Bifurcated spins 0/5⠋ Bifurcated spins 2/5 Spins bifurcated in 0.856 sec.\n",
      "✔ Retrieving ground state⠙ Retrieving ground state Ground state retrieved\n",
      "Set parameter Username\n",
      "Academic license - for non-commercial use only - expires 2022-08-16\n",
      "Set parameter Username\n",
      "Academic license - for non-commercial use only - expires 2022-08-16\n"
     ]
    },
    {
     "name": "stderr",
     "output_type": "stream",
     "text": [
      " 39%|███▉      | 7/18 [00:56<02:15, 12.36s/it]"
     ]
    },
    {
     "name": "stdout",
     "output_type": "stream",
     "text": [
      "✔ Building solver⠙ Building solver Solver built\n",
      "✔ Spins evolving⠙ Spins evolving⠹ Bifurcated spins 0/5⠸ Bifurcated spins 0/5⠼ Bifurcated spins 0/5⠴ Bifurcated spins 0/5⠦ Bifurcated spins 0/5⠧ Bifurcated spins 0/5⠇ Bifurcated spins 0/5⠏ Bifurcated spins 0/5⠋ Bifurcated spins 4/5 Spins bifurcated in 0.809 sec.\n",
      "✔ Retrieving ground state⠙ Retrieving ground state Ground state retrieved\n",
      "Set parameter Username\n",
      "Academic license - for non-commercial use only - expires 2022-08-16\n",
      "Set parameter Username\n",
      "Academic license - for non-commercial use only - expires 2022-08-16\n"
     ]
    },
    {
     "name": "stderr",
     "output_type": "stream",
     "text": [
      " 44%|████▍     | 8/18 [01:22<02:48, 16.90s/it]"
     ]
    },
    {
     "name": "stdout",
     "output_type": "stream",
     "text": [
      "✔ Building solver⠙ Building solver Solver built\n",
      "✔ Spins evolving⠙ Spins evolving⠹ Bifurcated spins 0/5⠸ Bifurcated spins 0/5⠼ Bifurcated spins 0/5⠴ Bifurcated spins 0/5⠦ Bifurcated spins 0/5⠧ Bifurcated spins 0/5⠇ Bifurcated spins 0/5⠏ Bifurcated spins 0/5⠋ Bifurcated spins 0/5⠙ Bifurcated spins 0/5⠹ Bifurcated spins 0/5⠸ Bifurcated spins 0/5⠼ Bifurcated spins 0/5⠴ Bifurcated spins 0/5⠦ Bifurcated spins 0/5⠧ Bifurcated spins 0/5⠇ Bifurcated spins 0/5⠏ Bifurcated spins 0/5⠋ Bifurcated spins 0/5⠙ Bifurcated spins 0/5⠹ Bifurcated spins 1/5⠸ Bifurcated spins 3/5⠼ Bifurcated spins 4/5 Spins bifurcated in 2.27 sec.\n",
      "✔ Retrieving ground state⠙ Retrieving ground state Ground state retrieved\n",
      "Set parameter Username\n",
      "Academic license - for non-commercial use only - expires 2022-08-16\n",
      "Set parameter Username\n",
      "Academic license - for non-commercial use only - expires 2022-08-16\n"
     ]
    },
    {
     "name": "stderr",
     "output_type": "stream",
     "text": [
      " 50%|█████     | 9/18 [02:00<03:30, 23.43s/it]"
     ]
    },
    {
     "name": "stdout",
     "output_type": "stream",
     "text": [
      "✔ Building solver⠙ Building solver Solver built\n",
      "✔ Spins evolving⠙ Spins evolving⠹ Bifurcated spins 0/5⠸ Bifurcated spins 0/5⠼ Bifurcated spins 0/5⠴ Bifurcated spins 0/5⠦ Bifurcated spins 0/5⠧ Bifurcated spins 0/5⠇ Bifurcated spins 0/5⠏ Bifurcated spins 0/5⠋ Bifurcated spins 0/5⠙ Bifurcated spins 0/5⠹ Bifurcated spins 0/5⠸ Bifurcated spins 0/5⠼ Bifurcated spins 0/5⠴ Bifurcated spins 0/5⠦ Bifurcated spins 0/5⠧ Bifurcated spins 0/5⠇ Bifurcated spins 0/5⠏ Bifurcated spins 0/5⠋ Bifurcated spins 0/5⠙ Bifurcated spins 0/5⠹ Bifurcated spins 0/5⠸ Bifurcated spins 0/5⠼ Bifurcated spins 2/5 Spins bifurcated in 2.023 sec.\n",
      "✔ Retrieving ground state⠙ Retrieving ground state Ground state retrieved\n",
      "Set parameter Username\n",
      "Academic license - for non-commercial use only - expires 2022-08-16\n",
      "Set parameter Username\n",
      "Academic license - for non-commercial use only - expires 2022-08-16\n"
     ]
    },
    {
     "name": "stderr",
     "output_type": "stream",
     "text": [
      " 56%|█████▌    | 10/18 [02:56<04:27, 33.42s/it]"
     ]
    },
    {
     "name": "stdout",
     "output_type": "stream",
     "text": [
      "✔ Building solver⠙ Building solver Solver built\n",
      "✔ Spins evolving⠙ Spins evolving⠹ Bifurcated spins 0/5⠸ Bifurcated spins 0/5⠼ Bifurcated spins 0/5⠴ Bifurcated spins 0/5⠦ Bifurcated spins 0/5⠧ Bifurcated spins 0/5⠇ Bifurcated spins 0/5⠏ Bifurcated spins 0/5⠋ Bifurcated spins 0/5⠙ Bifurcated spins 0/5⠹ Bifurcated spins 0/5⠸ Bifurcated spins 0/5⠼ Bifurcated spins 2/5⠴ Bifurcated spins 4/5 Spins bifurcated in 1.251 sec.\n",
      "✔ Retrieving ground state⠙ Retrieving ground state Ground state retrieved\n",
      "Set parameter Username\n",
      "Academic license - for non-commercial use only - expires 2022-08-16\n",
      "Set parameter Username\n",
      "Academic license - for non-commercial use only - expires 2022-08-16\n"
     ]
    },
    {
     "name": "stderr",
     "output_type": "stream",
     "text": [
      " 61%|██████    | 11/18 [04:56<07:00, 60.05s/it]"
     ]
    },
    {
     "name": "stdout",
     "output_type": "stream",
     "text": [
      "✔ Building solver⠙ Building solver Solver built\n",
      "✔ Spins evolving⠙ Spins evolving⠹ Bifurcated spins 0/5⠸ Bifurcated spins 0/5⠼ Bifurcated spins 0/5⠴ Bifurcated spins 0/5⠦ Bifurcated spins 0/5⠧ Bifurcated spins 0/5⠇ Bifurcated spins 0/5⠏ Bifurcated spins 0/5⠋ Bifurcated spins 0/5⠙ Bifurcated spins 0/5⠹ Bifurcated spins 0/5⠸ Bifurcated spins 0/5⠼ Bifurcated spins 0/5⠴ Bifurcated spins 0/5⠦ Bifurcated spins 2/5⠧ Bifurcated spins 4/5 Spins bifurcated in 1.454 sec.\n",
      "✔ Retrieving ground state⠙ Retrieving ground state Ground state retrieved\n",
      "Set parameter Username\n",
      "Academic license - for non-commercial use only - expires 2022-08-16\n",
      "Set parameter Username\n",
      "Academic license - for non-commercial use only - expires 2022-08-16\n"
     ]
    },
    {
     "name": "stderr",
     "output_type": "stream",
     "text": [
      " 67%|██████▋   | 12/18 [10:32<14:23, 143.95s/it]"
     ]
    },
    {
     "name": "stdout",
     "output_type": "stream",
     "text": [
      "✔ Building solver⠙ Building solver Solver built\n",
      "✔ Spins evolving⠙ Spins evolving⠹ Bifurcated spins 0/5⠸ Bifurcated spins 0/5⠼ Bifurcated spins 0/5⠴ Bifurcated spins 0/5⠦ Bifurcated spins 0/5⠧ Bifurcated spins 0/5⠇ Bifurcated spins 0/5⠏ Bifurcated spins 0/5⠋ Bifurcated spins 0/5⠙ Bifurcated spins 0/5⠹ Bifurcated spins 0/5⠸ Bifurcated spins 0/5⠼ Bifurcated spins 0/5⠴ Bifurcated spins 0/5⠦ Bifurcated spins 0/5⠧ Bifurcated spins 2/5 Spins bifurcated in 1.432 sec.\n",
      "✔ Retrieving ground state⠙ Retrieving ground state Ground state retrieved\n",
      "Set parameter Username\n",
      "Academic license - for non-commercial use only - expires 2022-08-16\n",
      "Set parameter Username\n",
      "Academic license - for non-commercial use only - expires 2022-08-16\n"
     ]
    },
    {
     "name": "stderr",
     "output_type": "stream",
     "text": [
      " 72%|███████▏  | 13/18 [16:13<16:58, 203.64s/it]"
     ]
    },
    {
     "name": "stdout",
     "output_type": "stream",
     "text": [
      "✔ Building solver⠙ Building solver Solver built\n",
      "✔ Spins evolving⠙ Spins evolving⠹ Bifurcated spins 0/5⠸ Bifurcated spins 0/5⠼ Bifurcated spins 0/5⠴ Bifurcated spins 0/5⠦ Bifurcated spins 0/5⠧ Bifurcated spins 0/5⠇ Bifurcated spins 0/5⠏ Bifurcated spins 0/5⠋ Bifurcated spins 0/5⠙ Bifurcated spins 0/5⠹ Bifurcated spins 0/5⠸ Bifurcated spins 0/5⠼ Bifurcated spins 0/5⠴ Bifurcated spins 0/5⠦ Bifurcated spins 0/5⠧ Bifurcated spins 0/5⠇ Bifurcated spins 0/5⠏ Bifurcated spins 3/5 Spins bifurcated in 1.612 sec.\n",
      "✔ Retrieving ground state⠙ Retrieving ground state Ground state retrieved\n",
      "Set parameter Username\n",
      "Academic license - for non-commercial use only - expires 2022-08-16\n",
      "Set parameter Username\n",
      "Academic license - for non-commercial use only - expires 2022-08-16\n"
     ]
    },
    {
     "name": "stderr",
     "output_type": "stream",
     "text": [
      " 78%|███████▊  | 14/18 [22:01<16:28, 247.09s/it]"
     ]
    },
    {
     "name": "stdout",
     "output_type": "stream",
     "text": [
      "✔ Building solver⠙ Building solver Solver built\n",
      "✔ Spins evolving⠙ Spins evolving⠹ Bifurcated spins 0/5⠸ Bifurcated spins 0/5⠼ Bifurcated spins 0/5⠴ Bifurcated spins 0/5⠦ Bifurcated spins 0/5⠧ Bifurcated spins 0/5⠇ Bifurcated spins 0/5⠏ Bifurcated spins 0/5⠋ Bifurcated spins 0/5⠙ Bifurcated spins 0/5⠹ Bifurcated spins 0/5⠸ Bifurcated spins 0/5⠼ Bifurcated spins 0/5⠴ Bifurcated spins 0/5⠦ Bifurcated spins 0/5⠧ Bifurcated spins 0/5⠇ Bifurcated spins 0/5⠏ Bifurcated spins 0/5⠋ Bifurcated spins 0/5⠙ Bifurcated spins 2/5⠹ Bifurcated spins 4/5 Spins bifurcated in 1.843 sec.\n",
      "✔ Retrieving ground state⠙ Retrieving ground state Ground state retrieved\n",
      "Set parameter Username\n",
      "Academic license - for non-commercial use only - expires 2022-08-16\n",
      "Set parameter Username\n",
      "Academic license - for non-commercial use only - expires 2022-08-16\n"
     ]
    },
    {
     "name": "stderr",
     "output_type": "stream",
     "text": [
      " 83%|████████▎ | 15/18 [27:56<13:58, 279.59s/it]"
     ]
    },
    {
     "name": "stdout",
     "output_type": "stream",
     "text": [
      "✔ Building solver⠙ Building solver Solver built\n",
      "✔ Spins evolving⠙ Spins evolving⠹ Bifurcated spins 0/5⠸ Bifurcated spins 0/5⠼ Bifurcated spins 0/5⠴ Bifurcated spins 0/5⠦ Bifurcated spins 0/5⠧ Bifurcated spins 0/5⠇ Bifurcated spins 0/5⠏ Bifurcated spins 0/5⠋ Bifurcated spins 0/5⠙ Bifurcated spins 0/5⠹ Bifurcated spins 0/5⠸ Bifurcated spins 0/5⠼ Bifurcated spins 0/5⠴ Bifurcated spins 0/5⠦ Bifurcated spins 0/5⠧ Bifurcated spins 0/5⠇ Bifurcated spins 0/5⠏ Bifurcated spins 0/5⠋ Bifurcated spins 0/5⠙ Bifurcated spins 0/5⠹ Bifurcated spins 0/5⠸ Bifurcated spins 0/5⠼ Bifurcated spins 0/5⠴ Bifurcated spins 0/5⠦ Bifurcated spins 2/5⠧ Bifurcated spins 3/5 Spins bifurcated in 2.296 sec.\n",
      "✔ Retrieving ground state⠙ Retrieving ground state Ground state retrieved\n",
      "Set parameter Username\n",
      "Academic license - for non-commercial use only - expires 2022-08-16\n",
      "Set parameter Username\n",
      "Academic license - for non-commercial use only - expires 2022-08-16\n"
     ]
    },
    {
     "name": "stderr",
     "output_type": "stream",
     "text": [
      " 89%|████████▉ | 16/18 [33:57<10:08, 304.10s/it]"
     ]
    },
    {
     "name": "stdout",
     "output_type": "stream",
     "text": [
      "✔ Building solver⠙ Building solver Solver built\n",
      "✔ Spins evolving⠙ Spins evolving⠹ Bifurcated spins 0/5⠸ Bifurcated spins 0/5⠼ Bifurcated spins 0/5⠴ Bifurcated spins 0/5⠦ Bifurcated spins 0/5⠧ Bifurcated spins 0/5⠇ Bifurcated spins 0/5⠏ Bifurcated spins 0/5⠋ Bifurcated spins 0/5⠙ Bifurcated spins 0/5⠹ Bifurcated spins 0/5⠸ Bifurcated spins 0/5⠼ Bifurcated spins 0/5⠴ Bifurcated spins 0/5⠦ Bifurcated spins 0/5⠧ Bifurcated spins 0/5⠇ Bifurcated spins 0/5⠏ Bifurcated spins 0/5⠋ Bifurcated spins 0/5⠙ Bifurcated spins 0/5⠹ Bifurcated spins 0/5⠸ Bifurcated spins 0/5⠼ Bifurcated spins 0/5⠴ Bifurcated spins 2/5⠦ Bifurcated spins 4/5 Spins bifurcated in 2.237 sec.\n",
      "✔ Retrieving ground state⠙ Retrieving ground state Ground state retrieved\n",
      "Set parameter Username\n",
      "Academic license - for non-commercial use only - expires 2022-08-16\n",
      "Set parameter Username\n",
      "Academic license - for non-commercial use only - expires 2022-08-16\n"
     ]
    },
    {
     "name": "stderr",
     "output_type": "stream",
     "text": [
      " 94%|█████████▍| 17/18 [40:05<05:23, 323.57s/it]"
     ]
    },
    {
     "name": "stdout",
     "output_type": "stream",
     "text": [
      "✔ Building solver⠙ Building solver Solver built\n",
      "✔ Spins evolving⠙ Spins evolving⠹ Bifurcated spins 0/5⠸ Bifurcated spins 0/5⠼ Bifurcated spins 0/5⠴ Bifurcated spins 0/5⠦ Bifurcated spins 0/5⠧ Bifurcated spins 0/5⠇ Bifurcated spins 0/5⠏ Bifurcated spins 0/5⠋ Bifurcated spins 0/5⠙ Bifurcated spins 0/5⠹ Bifurcated spins 0/5⠸ Bifurcated spins 0/5⠼ Bifurcated spins 0/5⠴ Bifurcated spins 0/5⠦ Bifurcated spins 0/5⠧ Bifurcated spins 0/5⠇ Bifurcated spins 0/5⠏ Bifurcated spins 0/5⠋ Bifurcated spins 0/5⠙ Bifurcated spins 0/5⠹ Bifurcated spins 0/5⠸ Bifurcated spins 0/5⠼ Bifurcated spins 0/5⠴ Bifurcated spins 0/5⠦ Bifurcated spins 0/5⠧ Bifurcated spins 0/5⠇ Bifurcated spins 0/5⠏ Bifurcated spins 2/5⠋ Bifurcated spins 3/5⠙ Bifurcated spins 3/5⠹ Bifurcated spins 4/5⠸ Bifurcated spins 4/5⠼ Bifurcated spins 4/5⠴ Bifurcated spins 4/5⠦ Bifurcated spins 4/5⠧ Bifurcated spins 4/5 Spins bifurcated in 3.15 sec.\n",
      "✔ Retrieving ground state⠙ Retrieving ground state Ground state retrieved\n",
      "Set parameter Username\n",
      "Academic license - for non-commercial use only - expires 2022-08-16\n",
      "Set parameter Username\n",
      "Academic license - for non-commercial use only - expires 2022-08-16\n"
     ]
    },
    {
     "name": "stderr",
     "output_type": "stream",
     "text": [
      "100%|██████████| 18/18 [46:24<00:00, 154.69s/it]\n"
     ]
    },
    {
     "name": "stdout",
     "output_type": "stream",
     "text": [
      "\r"
     ]
    }
   ],
   "source": [
    "energy_precision_1,proc_times_1,energy_precision_stop_1 = test_protocol(list(range(50,901,50)),[1])"
   ]
  },
  {
   "cell_type": "code",
   "execution_count": 80,
   "metadata": {},
   "outputs": [
    {
     "name": "stderr",
     "output_type": "stream",
     "text": [
      "  0%|          | 0/8 [00:00<?, ?it/s]"
     ]
    },
    {
     "name": "stdout",
     "output_type": "stream",
     "text": [
      "✔ Building solver⠙ Building solver Solver built\n",
      "✔ Spins evolving⠙ Bifurcated spins 0/5 Spins bifurcated in 0.212 sec.\n",
      "✔ Retrieving ground state⠙ Retrieving ground state Ground state retrieved\n",
      "Set parameter Username\n",
      "Academic license - for non-commercial use only - expires 2022-08-16\n",
      "Set parameter Username\n",
      "Academic license - for non-commercial use only - expires 2022-08-16\n"
     ]
    },
    {
     "name": "stderr",
     "output_type": "stream",
     "text": [
      " 12%|█▎        | 1/8 [00:02<00:14,  2.09s/it]"
     ]
    },
    {
     "name": "stdout",
     "output_type": "stream",
     "text": [
      "✔ Building solver⠙ Building solver Solver built\n",
      "✔ Spins evolving⠙ Spins evolving⠹ Bifurcated spins 0/5⠸ Bifurcated spins 0/5⠼ Bifurcated spins 0/5⠴ Bifurcated spins 2/5 Spins bifurcated in 0.382 sec.\n",
      "✔ Retrieving ground state⠙ Retrieving ground state Ground state retrieved\n",
      "Set parameter Username\n",
      "Academic license - for non-commercial use only - expires 2022-08-16\n",
      "Set parameter Username\n",
      "Academic license - for non-commercial use only - expires 2022-08-16\n"
     ]
    },
    {
     "name": "stderr",
     "output_type": "stream",
     "text": [
      " 25%|██▌       | 2/8 [00:09<00:31,  5.21s/it]"
     ]
    },
    {
     "name": "stdout",
     "output_type": "stream",
     "text": [
      "✔ Building solver⠙ Building solver Solver built\n",
      "✔ Spins evolving⠙ Spins evolving⠹ Bifurcated spins 0/5⠸ Bifurcated spins 0/5⠼ Bifurcated spins 0/5⠴ Bifurcated spins 0/5⠦ Bifurcated spins 0/5⠧ Bifurcated spins 0/5⠇ Bifurcated spins 0/5⠏ Bifurcated spins 3/5 Spins bifurcated in 0.719 sec.\n",
      "✔ Retrieving ground state⠙ Retrieving ground state Ground state retrieved\n",
      "Set parameter Username\n",
      "Academic license - for non-commercial use only - expires 2022-08-16\n",
      "Set parameter Username\n",
      "Academic license - for non-commercial use only - expires 2022-08-16\n"
     ]
    },
    {
     "name": "stderr",
     "output_type": "stream",
     "text": [
      " 38%|███▊      | 3/8 [00:23<00:45,  9.06s/it]"
     ]
    },
    {
     "name": "stdout",
     "output_type": "stream",
     "text": [
      "✔ Building solver⠙ Building solver Solver built\n",
      "✔ Spins evolving⠙ Spins evolving⠹ Bifurcated spins 0/5⠸ Bifurcated spins 0/5⠼ Bifurcated spins 0/5⠴ Bifurcated spins 0/5⠦ Bifurcated spins 0/5⠧ Bifurcated spins 0/5⠇ Bifurcated spins 0/5⠏ Bifurcated spins 0/5⠋ Bifurcated spins 3/5 Spins bifurcated in 0.807 sec.\n",
      "✔ Retrieving ground state⠙ Retrieving ground state Ground state retrieved\n",
      "Set parameter Username\n",
      "Academic license - for non-commercial use only - expires 2022-08-16\n",
      "Set parameter Username\n",
      "Academic license - for non-commercial use only - expires 2022-08-16\n"
     ]
    },
    {
     "name": "stderr",
     "output_type": "stream",
     "text": [
      " 50%|█████     | 4/8 [00:47<01:00, 15.03s/it]"
     ]
    },
    {
     "name": "stdout",
     "output_type": "stream",
     "text": [
      "✔ Building solver⠙ Building solver Solver built\n",
      "✔ Spins evolving⠙ Spins evolving⠹ Bifurcated spins 0/5⠸ Bifurcated spins 0/5⠼ Bifurcated spins 0/5⠴ Bifurcated spins 0/5⠦ Bifurcated spins 0/5⠧ Bifurcated spins 0/5⠇ Bifurcated spins 0/5⠏ Bifurcated spins 0/5⠋ Bifurcated spins 0/5⠙ Bifurcated spins 0/5⠹ Bifurcated spins 0/5⠸ Bifurcated spins 0/5⠼ Bifurcated spins 2/5 Spins bifurcated in 1.204 sec.\n",
      "✔ Retrieving ground state⠙ Retrieving ground state Ground state retrieved\n",
      "Set parameter Username\n",
      "Academic license - for non-commercial use only - expires 2022-08-16\n",
      "Set parameter Username\n",
      "Academic license - for non-commercial use only - expires 2022-08-16\n"
     ]
    },
    {
     "name": "stderr",
     "output_type": "stream",
     "text": [
      " 62%|██████▎   | 5/8 [01:35<01:20, 26.88s/it]"
     ]
    },
    {
     "name": "stdout",
     "output_type": "stream",
     "text": [
      "✔ Building solver⠙ Building solver Solver built\n",
      "✔ Spins evolving⠙ Spins evolving⠹ Bifurcated spins 0/5⠸ Bifurcated spins 0/5⠼ Bifurcated spins 0/5⠴ Bifurcated spins 0/5⠦ Bifurcated spins 0/5⠧ Bifurcated spins 0/5⠇ Bifurcated spins 0/5⠏ Bifurcated spins 0/5⠋ Bifurcated spins 0/5⠙ Bifurcated spins 0/5⠹ Bifurcated spins 0/5⠸ Bifurcated spins 0/5⠼ Bifurcated spins 0/5⠴ Bifurcated spins 2/5 Spins bifurcated in 1.304 sec.\n",
      "✔ Retrieving ground state⠙ Retrieving ground state Ground state retrieved\n",
      "Set parameter Username\n",
      "Academic license - for non-commercial use only - expires 2022-08-16\n",
      "Set parameter Username\n",
      "Academic license - for non-commercial use only - expires 2022-08-16\n"
     ]
    },
    {
     "name": "stderr",
     "output_type": "stream",
     "text": [
      " 75%|███████▌  | 6/8 [04:00<02:13, 66.99s/it]"
     ]
    },
    {
     "name": "stdout",
     "output_type": "stream",
     "text": [
      "✔ Building solver⠙ Building solver Solver built\n",
      "✔ Spins evolving⠙ Spins evolving⠹ Bifurcated spins 0/5⠸ Bifurcated spins 0/5⠼ Bifurcated spins 0/5⠴ Bifurcated spins 0/5⠦ Bifurcated spins 0/5⠧ Bifurcated spins 0/5⠇ Bifurcated spins 0/5⠏ Bifurcated spins 0/5⠋ Bifurcated spins 0/5⠙ Bifurcated spins 0/5⠹ Bifurcated spins 0/5⠸ Bifurcated spins 0/5⠼ Bifurcated spins 0/5⠴ Bifurcated spins 0/5⠦ Bifurcated spins 0/5⠧ Bifurcated spins 0/5⠇ Bifurcated spins 0/5⠏ Bifurcated spins 0/5⠋ Bifurcated spins 2/5⠙ Bifurcated spins 4/5⠹ Bifurcated spins 4/5⠸ Bifurcated spins 4/5⠼ Bifurcated spins 4/5⠴ Bifurcated spins 4/5⠦ Bifurcated spins 4/5⠧ Bifurcated spins 4/5⠇ Bifurcated spins 4/5⠏ Bifurcated spins 4/5⠋ Bifurcated spins 4/5 Spins bifurcated in 2.563 sec.\n",
      "✔ Retrieving ground state⠙ Retrieving ground state Ground state retrieved\n",
      "Set parameter Username\n",
      "Academic license - for non-commercial use only - expires 2022-08-16\n",
      "Set parameter Username\n",
      "Academic license - for non-commercial use only - expires 2022-08-16\n"
     ]
    },
    {
     "name": "stderr",
     "output_type": "stream",
     "text": [
      " 88%|████████▊ | 7/8 [09:48<02:39, 159.13s/it]"
     ]
    },
    {
     "name": "stdout",
     "output_type": "stream",
     "text": [
      "✔ Building solver⠙ Building solver Solver built\n",
      "✔ Spins evolving⠙ Spins evolving⠹ Bifurcated spins 0/5⠸ Bifurcated spins 0/5⠼ Bifurcated spins 0/5⠴ Bifurcated spins 0/5⠦ Bifurcated spins 0/5⠧ Bifurcated spins 0/5⠇ Bifurcated spins 0/5⠏ Bifurcated spins 0/5⠋ Bifurcated spins 0/5⠙ Bifurcated spins 0/5⠹ Bifurcated spins 0/5⠸ Bifurcated spins 0/5⠼ Bifurcated spins 0/5⠴ Bifurcated spins 0/5⠦ Bifurcated spins 0/5⠧ Bifurcated spins 0/5⠇ Bifurcated spins 0/5⠏ Bifurcated spins 0/5⠋ Bifurcated spins 0/5⠙ Bifurcated spins 0/5⠹ Bifurcated spins 0/5⠸ Bifurcated spins 0/5⠼ Bifurcated spins 1/5⠴ Bifurcated spins 2/5⠦ Bifurcated spins 3/5 Spins bifurcated in 2.24 sec.\n",
      "✔ Retrieving ground state⠙ Retrieving ground state Ground state retrieved\n",
      "Set parameter Username\n",
      "Academic license - for non-commercial use only - expires 2022-08-16\n",
      "Set parameter Username\n",
      "Academic license - for non-commercial use only - expires 2022-08-16\n"
     ]
    },
    {
     "name": "stderr",
     "output_type": "stream",
     "text": [
      "100%|██████████| 8/8 [15:50<00:00, 118.77s/it]\n"
     ]
    },
    {
     "name": "stdout",
     "output_type": "stream",
     "text": [
      "\r"
     ]
    }
   ],
   "source": [
    "energy_precision_2,proc_times_2,energy_precision_stop_2 = test_protocol(list(range(50,401,50)),[2])"
   ]
  },
  {
   "cell_type": "code",
   "execution_count": 81,
   "metadata": {},
   "outputs": [
    {
     "name": "stderr",
     "output_type": "stream",
     "text": [
      "  0%|          | 0/5 [00:00<?, ?it/s]"
     ]
    },
    {
     "name": "stdout",
     "output_type": "stream",
     "text": [
      "✔ Building solver⠙ Building solver Solver built\n",
      "✔ Spins evolving⠙ Spins evolving⠹ Bifurcated spins 0/5⠸ Bifurcated spins 0/5⠼ Bifurcated spins 1/5 Spins bifurcated in 0.283 sec.\n",
      "✔ Retrieving ground state⠙ Retrieving ground state Ground state retrieved\n",
      "Set parameter Username\n",
      "Academic license - for non-commercial use only - expires 2022-08-16\n",
      "Set parameter Username\n",
      "Academic license - for non-commercial use only - expires 2022-08-16\n"
     ]
    },
    {
     "name": "stderr",
     "output_type": "stream",
     "text": [
      " 20%|██        | 1/5 [00:03<00:13,  3.49s/it]"
     ]
    },
    {
     "name": "stdout",
     "output_type": "stream",
     "text": [
      "✔ Building solver⠙ Building solver Solver built\n",
      "✔ Spins evolving⠙ Spins evolving⠹ Bifurcated spins 0/5⠸ Bifurcated spins 0/5⠼ Bifurcated spins 0/5⠴ Bifurcated spins 0/5⠦ Bifurcated spins 0/5⠧ Bifurcated spins 0/5⠇ Bifurcated spins 0/5⠏ Bifurcated spins 0/5⠋ Bifurcated spins 0/5⠙ Bifurcated spins 0/5⠹ Bifurcated spins 4/5 Spins bifurcated in 1.023 sec.\n",
      "✔ Retrieving ground state⠙ Retrieving ground state Ground state retrieved\n",
      "Set parameter Username\n",
      "Academic license - for non-commercial use only - expires 2022-08-16\n",
      "Set parameter Username\n",
      "Academic license - for non-commercial use only - expires 2022-08-16\n"
     ]
    },
    {
     "name": "stderr",
     "output_type": "stream",
     "text": [
      " 40%|████      | 2/5 [00:18<00:30, 10.26s/it]"
     ]
    },
    {
     "name": "stdout",
     "output_type": "stream",
     "text": [
      "✔ Building solver⠙ Building solver Solver built\n",
      "✔ Spins evolving⠙ Spins evolving⠹ Bifurcated spins 0/5⠸ Bifurcated spins 0/5⠼ Bifurcated spins 0/5⠴ Bifurcated spins 0/5⠦ Bifurcated spins 0/5⠧ Bifurcated spins 0/5⠇ Bifurcated spins 0/5⠏ Bifurcated spins 0/5⠋ Bifurcated spins 0/5⠙ Bifurcated spins 0/5⠹ Bifurcated spins 0/5⠸ Bifurcated spins 0/5⠼ Bifurcated spins 2/5⠴ Bifurcated spins 4/5⠦ Bifurcated spins 4/5⠧ Bifurcated spins 4/5⠇ Bifurcated spins 4/5⠏ Bifurcated spins 4/5 Spins bifurcated in 1.635 sec.\n",
      "✔ Retrieving ground state⠙ Retrieving ground state Ground state retrieved\n",
      "Set parameter Username\n",
      "Academic license - for non-commercial use only - expires 2022-08-16\n",
      "Set parameter Username\n",
      "Academic license - for non-commercial use only - expires 2022-08-16\n"
     ]
    },
    {
     "name": "stderr",
     "output_type": "stream",
     "text": [
      " 60%|██████    | 3/5 [00:53<00:42, 21.37s/it]"
     ]
    },
    {
     "name": "stdout",
     "output_type": "stream",
     "text": [
      "✔ Building solver⠙ Building solver Solver built\n",
      "✔ Spins evolving⠙ Spins evolving⠹ Bifurcated spins 0/5⠸ Bifurcated spins 0/5⠼ Bifurcated spins 0/5⠴ Bifurcated spins 0/5⠦ Bifurcated spins 0/5⠧ Bifurcated spins 0/5⠇ Bifurcated spins 0/5⠏ Bifurcated spins 0/5⠋ Bifurcated spins 0/5⠙ Bifurcated spins 0/5⠹ Bifurcated spins 0/5⠸ Bifurcated spins 0/5⠼ Bifurcated spins 0/5⠴ Bifurcated spins 0/5⠦ Bifurcated spins 0/5⠧ Bifurcated spins 3/5⠇ Bifurcated spins 4/5 Spins bifurcated in 1.48 sec.\n",
      "✔ Retrieving ground state⠙ Retrieving ground state Ground state retrieved\n",
      "Set parameter Username\n",
      "Academic license - for non-commercial use only - expires 2022-08-16\n",
      "Set parameter Username\n",
      "Academic license - for non-commercial use only - expires 2022-08-16\n"
     ]
    },
    {
     "name": "stderr",
     "output_type": "stream",
     "text": [
      " 80%|████████  | 4/5 [03:05<01:05, 65.05s/it]"
     ]
    },
    {
     "name": "stdout",
     "output_type": "stream",
     "text": [
      "✔ Building solver⠙ Building solver Solver built\n",
      "✔ Spins evolving⠙ Spins evolving⠹ Bifurcated spins 0/5⠸ Bifurcated spins 0/5⠼ Bifurcated spins 0/5⠴ Bifurcated spins 0/5⠦ Bifurcated spins 0/5⠧ Bifurcated spins 0/5⠇ Bifurcated spins 0/5⠏ Bifurcated spins 0/5⠋ Bifurcated spins 0/5⠙ Bifurcated spins 0/5⠹ Bifurcated spins 0/5⠸ Bifurcated spins 0/5⠼ Bifurcated spins 0/5⠴ Bifurcated spins 0/5⠦ Bifurcated spins 0/5⠧ Bifurcated spins 0/5⠇ Bifurcated spins 0/5⠏ Bifurcated spins 0/5⠋ Bifurcated spins 1/5⠙ Bifurcated spins 1/5⠹ Bifurcated spins 3/5⠸ Bifurcated spins 3/5 Spins bifurcated in 1.989 sec.\n",
      "✔ Retrieving ground state⠙ Retrieving ground state Ground state retrieved\n",
      "Set parameter Username\n",
      "Academic license - for non-commercial use only - expires 2022-08-16\n",
      "Set parameter Username\n",
      "Academic license - for non-commercial use only - expires 2022-08-16\n"
     ]
    },
    {
     "name": "stderr",
     "output_type": "stream",
     "text": [
      "100%|██████████| 5/5 [08:58<00:00, 107.77s/it]\n"
     ]
    },
    {
     "name": "stdout",
     "output_type": "stream",
     "text": []
    }
   ],
   "source": [
    "energy_precision_3,proc_times_3,energy_precision_stop_3 = test_protocol(list(range(50,251,50)),[3])"
   ]
  },
  {
   "cell_type": "code",
   "execution_count": 104,
   "metadata": {},
   "outputs": [
    {
     "name": "stdout",
     "output_type": "stream",
     "text": []
    }
   ],
   "source": [
    "with open('test_gurobi/precisions_3.json') as json_file:\n",
    "    precisions_dict = json.load(json_file)\n",
    "\n",
    "with open('test_gurobi/precisions_early_stopping_3.json') as json_file:\n",
    "    precisions_early_stopping_dict = json.load(json_file)\n",
    "\n",
    "with open('test_gurobi/times_3.json') as json_file:\n",
    "    times_dict = json.load(json_file)"
   ]
  },
  {
   "cell_type": "code",
   "execution_count": 105,
   "metadata": {},
   "outputs": [
    {
     "data": {
      "text/plain": [
       "{'50': {'3': 2.67},\n",
       " '100': {'3': 6.68},\n",
       " '150': {'3': 11.93},\n",
       " '200': {'3': 65.08},\n",
       " '250': {'3': 148.71}}"
      ]
     },
     "execution_count": 105,
     "metadata": {},
     "output_type": "execute_result"
    },
    {
     "name": "stdout",
     "output_type": "stream",
     "text": []
    }
   ],
   "source": [
    "times_dict"
   ]
  },
  {
   "cell_type": "code",
   "execution_count": 106,
   "metadata": {},
   "outputs": [
    {
     "data": {
      "text/plain": [
       "{'50': {'3': -0.0},\n",
       " '100': {'3': 0.940155},\n",
       " '150': {'3': 0.986043},\n",
       " '200': {'3': 0.968175},\n",
       " '250': {'3': 0.964593}}"
      ]
     },
     "execution_count": 106,
     "metadata": {},
     "output_type": "execute_result"
    },
    {
     "name": "stdout",
     "output_type": "stream",
     "text": []
    }
   ],
   "source": [
    "precisions_early_stopping_dict"
   ]
  },
  {
   "cell_type": "code",
   "execution_count": 107,
   "metadata": {},
   "outputs": [
    {
     "data": {
      "text/plain": [
       "{'50': {'3': 0.0},\n",
       " '100': {'3': 0.0},\n",
       " '150': {'3': 7e-06},\n",
       " '200': {'3': 2.4e-05},\n",
       " '250': {'3': -0.075748}}"
      ]
     },
     "execution_count": 107,
     "metadata": {},
     "output_type": "execute_result"
    },
    {
     "name": "stdout",
     "output_type": "stream",
     "text": []
    }
   ],
   "source": [
    "precisions_dict"
   ]
  }
 ],
 "metadata": {
  "kernelspec": {
   "display_name": "Python 3.9.0 64-bit",
   "language": "python",
   "name": "python3"
  },
  "language_info": {
   "codemirror_mode": {
    "name": "ipython",
    "version": 3
   },
   "file_extension": ".py",
   "mimetype": "text/x-python",
   "name": "python",
   "nbconvert_exporter": "python",
   "pygments_lexer": "ipython3",
   "version": "3.9.0"
  },
  "orig_nbformat": 4,
  "vscode": {
   "interpreter": {
    "hash": "aee8b7b246df8f9039afb4144a1f6fd8d2ca17a180786b69acc140d282b71a49"
   }
  }
 },
 "nbformat": 4,
 "nbformat_minor": 2
}
