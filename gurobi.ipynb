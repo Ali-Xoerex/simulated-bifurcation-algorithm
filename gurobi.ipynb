{
 "cells": [
  {
   "cell_type": "code",
   "execution_count": 56,
   "metadata": {},
   "outputs": [
    {
     "name": "stdout",
     "output_type": "stream",
     "text": [
      "\r"
     ]
    }
   ],
   "source": [
    "from mip import *\n",
    "import numpy as np\n",
    "import time\n",
    "from simulated_bifurcation import Ising\n",
    "import json\n",
    "from tqdm import tqdm\n",
    "\n",
    "N_range = list(range(50,1001,50))\n",
    "alpha_range = [1]\n",
    "\n",
    "def generate_J_h(N_range,alpha_range):\n",
    "    for N in N_range:\n",
    "        for alpha in alpha_range:\n",
    "            J = np.random.randint(-100,100,size=(N*alpha, N*alpha))/(10**6)\n",
    "            J = (J + J.T)/2\n",
    "            J = J - np.diag(np.diag(J))\n",
    "            h = np.random.randint(-100,100,size=N*alpha)/(10**4)\n",
    "\n",
    "            with open('test_gurobi/test_GB_J_' + str(N) + '_' + str(alpha) + '.npy', 'wb') as f:\n",
    "                np.save(f, J)\n",
    "\n",
    "            with open('test_gurobi/test_GB_h_' + str(N) + '_' + str(alpha) + '.npy', 'wb') as f:\n",
    "                np.save(f, h)\n",
    "\n",
    "            with open('test_gurobi/test_SB_J_' + str(N) + '_' + str(alpha) + '.npy', 'wb') as f:\n",
    "                np.save(f, J/4)\n",
    "\n",
    "            with open('test_gurobi/test_SB_h_' + str(N) + '_' + str(alpha) + '.npy', 'wb') as f:\n",
    "                np.save(f, h/2 - sum([J[:,i]/8 for i in range(N*alpha)]) - sum([J[i,:]/8 for i in range(N*alpha)]))\n",
    "\n",
    "generate_J_h(N_range,alpha_range)"
   ]
  },
  {
   "cell_type": "code",
   "execution_count": 57,
   "metadata": {},
   "outputs": [
    {
     "name": "stdout",
     "output_type": "stream",
     "text": [
      "\r"
     ]
    }
   ],
   "source": [
    "def create_optimize_gurobi(J,h,J_SB,h_SB,max_seconds=-1):\n",
    "    time_1 = time.time()\n",
    "    size = J.shape[0]\n",
    "\n",
    "    model = Model(\"Ising\", solver_name=GRB)\n",
    "    model.verbose = 0\n",
    "    u = [model.add_var(var_type=BINARY) for _ in range(size)]\n",
    "    z = [[model.add_var(var_type=BINARY) for _ in range(size)] for _ in range(size)]\n",
    "\n",
    "    for i in range(size):\n",
    "        for j in range(size):\n",
    "            model += z[i][j] <= u[i]\n",
    "            model += z[i][j] <= u[j]\n",
    "            model += z[i][j] >= u[i] + u[j] -1\n",
    "\n",
    "    model.objective = minimize((-1/2)*quicksum(quicksum(J[i,j]*z[i][j] for i in range(size)) for j in range(size)) + quicksum(h[i]*u[i] for i in range(size)))\n",
    "    if max_seconds == -1:\n",
    "        model.optimize(max_seconds=300)\n",
    "    else:\n",
    "        model.optimize(max_seconds=max_seconds)\n",
    "\n",
    "    spins = [1 if u[i].x >= 0.99 else -1 for i in range(size)]\n",
    "    energy = (-1/2)*sum([sum([J_SB[i,j]*spins[j] for j in range(size)])*spins[i] for i in range(size)]) + sum([h_SB[i]*spins[i] for i in range(size)])[0]\n",
    "\n",
    "    processing_time = time.time() - time_1\n",
    "    return (processing_time,np.array(spins),energy)"
   ]
  },
  {
   "cell_type": "code",
   "execution_count": 58,
   "metadata": {},
   "outputs": [
    {
     "name": "stdout",
     "output_type": "stream",
     "text": [
      "\r"
     ]
    }
   ],
   "source": [
    "def create_optimize_SB(J,h):\n",
    "    time_1 = time.time()\n",
    "\n",
    "    model = Ising(J,h)\n",
    "    model.optimize(convergence_threshold = 35,\n",
    "        sampling_period = 60,\n",
    "        time_step = 0.01, \n",
    "        symplectic_parameter = 2,\n",
    "        agents = 5,\n",
    "        ballistic=False,\n",
    "        heated=True,\n",
    "        final_pressure=1.,\n",
    "        pressure_slope=0.2)\n",
    "\n",
    "    processing_time = time.time() - time_1\n",
    "    return(processing_time, model.ground_state, model.energy)"
   ]
  },
  {
   "cell_type": "code",
   "execution_count": 59,
   "metadata": {},
   "outputs": [
    {
     "name": "stdout",
     "output_type": "stream",
     "text": [
      "\r"
     ]
    }
   ],
   "source": [
    "def test_protocol(N_range, alpha_range):\n",
    "    energy_precision = {}\n",
    "    proc_times = {}\n",
    "    energy_precision_stop = {}\n",
    "\n",
    "    for N in tqdm(N_range):\n",
    "        energy_precision[N] = {}\n",
    "        proc_times[N] = {}\n",
    "        energy_precision_stop[N] = {}\n",
    "        for alpha in alpha_range:\n",
    "            with open('test_gurobi/test_SB_J_' + str(N) + '_' + str(alpha) + '.npy', 'rb') as f:\n",
    "                test_SB_J = np.load(f)\n",
    "\n",
    "            with open('test_gurobi/test_SB_h_' + str(N) + '_' + str(alpha) + '.npy', 'rb') as f:\n",
    "                test_SB_h = np.expand_dims(np.load(f),axis=1)\n",
    "\n",
    "            with open('test_gurobi/test_GB_J_' + str(N) + '_' + str(alpha) + '.npy', 'rb') as f:\n",
    "                test_GB_J = np.load(f)\n",
    "\n",
    "            with open('test_gurobi/test_GB_h_' + str(N) + '_' + str(alpha) + '.npy', 'rb') as f:\n",
    "                test_GB_h = np.load(f)\n",
    "\n",
    "            processing_time_sb, _, energy_sb = create_optimize_SB(test_SB_J,test_SB_h)\n",
    "            processing_time_gb, _, energy_gb = create_optimize_gurobi(test_GB_J,test_GB_h,test_SB_J,test_SB_h)\n",
    "            _, _, energy_gb_stopped = create_optimize_gurobi(test_GB_J,test_GB_h,test_SB_J,test_SB_h,processing_time_sb)\n",
    "\n",
    "            energy_precision[N][alpha] = round((energy_sb - energy_gb)/abs(energy_gb),6)\n",
    "            proc_times[N][alpha] = round(processing_time_gb/processing_time_sb,2)\n",
    "            energy_precision_stop[N][alpha] = round((energy_gb_stopped - energy_sb)/abs(energy_sb),6)\n",
    "\n",
    "    with open(\"test_gurobi/precisions_1.json\", \"w\") as f:\n",
    "        json.dump(energy_precision, f)\n",
    "    \n",
    "    with open(\"test_gurobi/times_1.json\", \"w\") as f:\n",
    "        json.dump(proc_times, f)\n",
    "\n",
    "    with open(\"test_gurobi/precisions_early_stopping_1.json\", \"w\") as f:\n",
    "        json.dump(energy_precision_stop, f)\n",
    "\n",
    "    return energy_precision,proc_times,energy_precision_stop"
   ]
  },
  {
   "cell_type": "code",
   "execution_count": 61,
   "metadata": {},
   "outputs": [
    {
     "name": "stderr",
     "output_type": "stream",
     "text": [
      "  0%|          | 0/20 [00:00<?, ?it/s]"
     ]
    },
    {
     "name": "stdout",
     "output_type": "stream",
     "text": [
      "✔ Building solver⠙ Building solver Solver built\n",
      "✔ Spins evolving⠙ Bifurcated spins 0/5 Spins bifurcated in 0.187 sec.\n",
      "✔ Retrieving ground state⠙ Retrieving ground state Ground state retrieved\n",
      "Set parameter Username\n",
      "Academic license - for non-commercial use only - expires 2022-08-16\n",
      "Set parameter Username\n",
      "Academic license - for non-commercial use only - expires 2022-08-16\n"
     ]
    },
    {
     "name": "stderr",
     "output_type": "stream",
     "text": [
      "  5%|▌         | 1/20 [00:00<00:14,  1.31it/s]"
     ]
    },
    {
     "name": "stdout",
     "output_type": "stream",
     "text": [
      "✔ Building solver⠙ Building solver Solver built\n",
      "✔ Spins evolving⠙ Bifurcated spins 0/5⠹ Bifurcated spins 0/5 Spins bifurcated in 0.224 sec.\n",
      "✔ Retrieving ground state⠙ Retrieving ground state Ground state retrieved\n",
      "Set parameter Username\n",
      "Academic license - for non-commercial use only - expires 2022-08-16\n",
      "Set parameter Username\n",
      "Academic license - for non-commercial use only - expires 2022-08-16\n"
     ]
    },
    {
     "name": "stderr",
     "output_type": "stream",
     "text": [
      " 10%|█         | 2/20 [00:02<00:25,  1.43s/it]"
     ]
    },
    {
     "name": "stdout",
     "output_type": "stream",
     "text": [
      "✔ Building solver⠙ Building solver Solver built\n",
      "✔ Spins evolving⠙ Spins evolving⠹ Bifurcated spins 0/5⠸ Bifurcated spins 0/5⠼ Bifurcated spins 0/5 Spins bifurcated in 0.307 sec.\n",
      "✔ Retrieving ground state⠙ Retrieving ground state Ground state retrieved\n",
      "Set parameter Username\n",
      "Academic license - for non-commercial use only - expires 2022-08-16\n",
      "Set parameter Username\n",
      "Academic license - for non-commercial use only - expires 2022-08-16\n"
     ]
    },
    {
     "name": "stderr",
     "output_type": "stream",
     "text": [
      " 15%|█▌        | 3/20 [00:06<00:41,  2.46s/it]"
     ]
    },
    {
     "name": "stdout",
     "output_type": "stream",
     "text": [
      "✔ Building solver⠙ Building solver Solver built\n",
      "✔ Spins evolving⠙ Spins evolving⠹ Bifurcated spins 0/5⠸ Bifurcated spins 0/5⠼ Bifurcated spins 0/5⠴ Bifurcated spins 2/5 Spins bifurcated in 0.377 sec.\n",
      "✔ Retrieving ground state⠙ Retrieving ground state Ground state retrieved\n",
      "Set parameter Username\n",
      "Academic license - for non-commercial use only - expires 2022-08-16\n",
      "Set parameter Username\n",
      "Academic license - for non-commercial use only - expires 2022-08-16\n"
     ]
    },
    {
     "name": "stderr",
     "output_type": "stream",
     "text": [
      " 20%|██        | 4/20 [00:12<01:00,  3.80s/it]"
     ]
    },
    {
     "name": "stdout",
     "output_type": "stream",
     "text": [
      "✔ Building solver⠙ Building solver Solver built\n",
      "✔ Spins evolving⠙ Spins evolving⠹ Bifurcated spins 0/5⠸ Bifurcated spins 0/5⠼ Bifurcated spins 0/5⠴ Bifurcated spins 0/5⠦ Bifurcated spins 0/5⠧ Bifurcated spins 0/5 Spins bifurcated in 0.565 sec.\n",
      "✔ Retrieving ground state⠙ Retrieving ground state Ground state retrieved\n",
      "Set parameter Username\n",
      "Academic license - for non-commercial use only - expires 2022-08-16\n",
      "Set parameter Username\n",
      "Academic license - for non-commercial use only - expires 2022-08-16\n"
     ]
    },
    {
     "name": "stderr",
     "output_type": "stream",
     "text": [
      " 25%|██▌       | 5/20 [00:21<01:24,  5.67s/it]"
     ]
    },
    {
     "name": "stdout",
     "output_type": "stream",
     "text": [
      "✔ Building solver⠙ Building solver Solver built\n",
      "✔ Spins evolving⠙ Spins evolving⠹ Bifurcated spins 0/5⠸ Bifurcated spins 0/5⠼ Bifurcated spins 0/5⠴ Bifurcated spins 0/5⠦ Bifurcated spins 0/5⠧ Bifurcated spins 0/5 Spins bifurcated in 0.583 sec.\n",
      "✔ Retrieving ground state⠙ Retrieving ground state Ground state retrieved\n",
      "Set parameter Username\n",
      "Academic license - for non-commercial use only - expires 2022-08-16\n",
      "Set parameter Username\n",
      "Academic license - for non-commercial use only - expires 2022-08-16\n"
     ]
    },
    {
     "name": "stderr",
     "output_type": "stream",
     "text": [
      " 30%|███       | 6/20 [00:33<01:53,  8.10s/it]"
     ]
    },
    {
     "name": "stdout",
     "output_type": "stream",
     "text": [
      "✔ Building solver⠙ Building solver Solver built\n",
      "✔ Spins evolving⠙ Spins evolving⠹ Bifurcated spins 0/5⠸ Bifurcated spins 0/5⠼ Bifurcated spins 0/5⠴ Bifurcated spins 0/5⠦ Bifurcated spins 0/5⠧ Bifurcated spins 0/5⠇ Bifurcated spins 0/5⠏ Bifurcated spins 2/5⠋ Bifurcated spins 4/5⠙ Bifurcated spins 4/5 Spins bifurcated in 0.892 sec.\n",
      "✔ Retrieving ground state⠙ Retrieving ground state Ground state retrieved\n",
      "Set parameter Username\n",
      "Academic license - for non-commercial use only - expires 2022-08-16\n",
      "Set parameter Username\n",
      "Academic license - for non-commercial use only - expires 2022-08-16\n"
     ]
    },
    {
     "name": "stderr",
     "output_type": "stream",
     "text": [
      " 35%|███▌      | 7/20 [00:53<02:34, 11.89s/it]"
     ]
    },
    {
     "name": "stdout",
     "output_type": "stream",
     "text": [
      "✔ Building solver⠙ Building solver Solver built\n",
      "✔ Spins evolving⠙ Spins evolving⠹ Bifurcated spins 0/5⠸ Bifurcated spins 0/5⠼ Bifurcated spins 0/5⠴ Bifurcated spins 0/5⠦ Bifurcated spins 0/5⠧ Bifurcated spins 0/5⠇ Bifurcated spins 0/5⠏ Bifurcated spins 0/5 Spins bifurcated in 0.737 sec.\n",
      "✔ Retrieving ground state⠙ Retrieving ground state Ground state retrieved\n",
      "Set parameter Username\n",
      "Academic license - for non-commercial use only - expires 2022-08-16\n",
      "Set parameter Username\n",
      "Academic license - for non-commercial use only - expires 2022-08-16\n"
     ]
    },
    {
     "name": "stderr",
     "output_type": "stream",
     "text": [
      " 40%|████      | 8/20 [01:17<03:09, 15.76s/it]"
     ]
    },
    {
     "name": "stdout",
     "output_type": "stream",
     "text": [
      "✔ Building solver⠙ Building solver Solver built\n",
      "✔ Spins evolving⠙ Spins evolving⠹ Bifurcated spins 0/5⠸ Bifurcated spins 0/5⠼ Bifurcated spins 0/5⠴ Bifurcated spins 0/5⠦ Bifurcated spins 0/5⠧ Bifurcated spins 0/5⠇ Bifurcated spins 0/5⠏ Bifurcated spins 0/5⠋ Bifurcated spins 0/5⠙ Bifurcated spins 0/5⠹ Bifurcated spins 4/5 Spins bifurcated in 1.01 sec.\n",
      "✔ Retrieving ground state⠙ Retrieving ground state Ground state retrieved\n",
      "Set parameter Username\n",
      "Academic license - for non-commercial use only - expires 2022-08-16\n",
      "Set parameter Username\n",
      "Academic license - for non-commercial use only - expires 2022-08-16\n"
     ]
    },
    {
     "name": "stderr",
     "output_type": "stream",
     "text": [
      " 45%|████▌     | 9/20 [01:50<03:51, 21.00s/it]"
     ]
    },
    {
     "name": "stdout",
     "output_type": "stream",
     "text": [
      "✔ Building solver⠙ Building solver Solver built\n",
      "✔ Spins evolving⠙ Spins evolving⠹ Bifurcated spins 0/5⠸ Bifurcated spins 0/5⠼ Bifurcated spins 0/5⠴ Bifurcated spins 0/5⠦ Bifurcated spins 0/5⠧ Bifurcated spins 0/5⠇ Bifurcated spins 0/5⠏ Bifurcated spins 0/5⠋ Bifurcated spins 0/5⠙ Bifurcated spins 0/5⠹ Bifurcated spins 1/5⠸ Bifurcated spins 4/5 Spins bifurcated in 1.092 sec.\n",
      "✔ Retrieving ground state⠙ Retrieving ground state Ground state retrieved\n",
      "Set parameter Username\n",
      "Academic license - for non-commercial use only - expires 2022-08-16\n",
      "Set parameter Username\n",
      "Academic license - for non-commercial use only - expires 2022-08-16\n"
     ]
    },
    {
     "name": "stderr",
     "output_type": "stream",
     "text": [
      " 50%|█████     | 10/20 [02:41<05:03, 30.37s/it]"
     ]
    },
    {
     "name": "stdout",
     "output_type": "stream",
     "text": [
      "✔ Building solver⠙ Building solver Solver built\n",
      "✔ Spins evolving⠙ Spins evolving⠹ Bifurcated spins 0/5⠸ Bifurcated spins 0/5⠼ Bifurcated spins 0/5⠴ Bifurcated spins 0/5⠦ Bifurcated spins 0/5⠧ Bifurcated spins 0/5⠇ Bifurcated spins 0/5⠏ Bifurcated spins 0/5⠋ Bifurcated spins 0/5⠙ Bifurcated spins 0/5⠹ Bifurcated spins 0/5⠸ Bifurcated spins 0/5⠼ Bifurcated spins 0/5⠴ Bifurcated spins 4/5 Spins bifurcated in 1.232 sec.\n",
      "✔ Retrieving ground state⠙ Retrieving ground state Ground state retrieved\n",
      "Set parameter Username\n",
      "Academic license - for non-commercial use only - expires 2022-08-16\n"
     ]
    }
   ],
   "source": [
    "test_protocol(N_range,alpha_range)"
   ]
  }
 ],
 "metadata": {
  "kernelspec": {
   "display_name": "Python 3.9.0 64-bit",
   "language": "python",
   "name": "python3"
  },
  "language_info": {
   "codemirror_mode": {
    "name": "ipython",
    "version": 3
   },
   "file_extension": ".py",
   "mimetype": "text/x-python",
   "name": "python",
   "nbconvert_exporter": "python",
   "pygments_lexer": "ipython3",
   "version": "3.9.0"
  },
  "orig_nbformat": 4,
  "vscode": {
   "interpreter": {
    "hash": "aee8b7b246df8f9039afb4144a1f6fd8d2ca17a180786b69acc140d282b71a49"
   }
  }
 },
 "nbformat": 4,
 "nbformat_minor": 2
}
